{
 "cells": [
  {
   "cell_type": "markdown",
   "source": [],
   "metadata": {
    "collapsed": false
   },
   "id": "4cf9b5cc1adc1f45"
  },
  {
   "cell_type": "markdown",
   "source": [
    "#Machine learning - lab3"
   ],
   "metadata": {
    "collapsed": false
   },
   "id": "cbfdefa2193c101f"
  },
  {
   "cell_type": "markdown",
   "source": [
    "#Ex. 1"
   ],
   "metadata": {
    "collapsed": false
   },
   "id": "76162474f1f4d31f"
  },
  {
   "cell_type": "code",
   "execution_count": 1,
   "outputs": [
    {
     "name": "stdout",
     "output_type": "stream",
     "text": [
      "Słownik (unikalne słowa): ['dokument' 'dwa' 'jest' 'numer' 'ostatni' 'pierwszy' 'to' 'tym' 'zbiorze']\n",
      "Macierz Bag of Words:\n",
      "[[1 0 1 0 0 1 1 0 0]\n",
      " [1 1 0 1 0 0 0 0 0]\n",
      " [1 0 0 0 1 0 0 1 1]]\n"
     ]
    }
   ],
   "source": [
    "from sklearn.feature_extraction.text import CountVectorizer\n",
    "\n",
    "documents = [\n",
    "    \"To jest pierwszy dokument.\",\n",
    "    \"Dokument numer dwa.\",\n",
    "    \"Ostatni dokument w tym zbiorze.\"\n",
    "]\n",
    "\n",
    "vectorizer = CountVectorizer()\n",
    "\n",
    "#Przetwarzanie i transformacja dokumentów za pomocą Bag of Words\n",
    "X = vectorizer.fit_transform(documents)\n",
    "\n",
    "print(\"Słownik (unikalne słowa):\", vectorizer.get_feature_names_out())\n",
    "\n",
    "print(\"Macierz Bag of Words:\")\n",
    "print(X.toarray())"
   ],
   "metadata": {
    "collapsed": false,
    "ExecuteTime": {
     "end_time": "2023-11-17T07:29:10.482591800Z",
     "start_time": "2023-11-17T07:29:05.756547500Z"
    }
   },
   "id": "cc69a60a53be47ff"
  },
  {
   "cell_type": "markdown",
   "source": [
    "#Ex. 2"
   ],
   "metadata": {
    "collapsed": false
   },
   "id": "ca9d4114e05d834e"
  },
  {
   "cell_type": "code",
   "execution_count": 11,
   "outputs": [
    {
     "name": "stdout",
     "output_type": "stream",
     "text": [
      "Słownik (unikalne słowa): ['to', 'jest', 'pierwszy', 'dokument', 'numer', 'dwa', 'ostatni', 'w', 'tym', 'zbiorze']\n",
      "Macierz Bag of Words:\n",
      "[1, 1, 1, 1, 0, 0, 0, 0, 0, 0]\n",
      "[0, 0, 0, 1, 1, 1, 0, 0, 0, 0]\n",
      "[0, 0, 0, 1, 0, 0, 1, 1, 1, 1]\n"
     ]
    }
   ],
   "source": [
    "import re\n",
    "\n",
    "#Tokenizacja i oczyszczanie tekstu\n",
    "def preprocess_text(text):\n",
    "    #Usunięcie znaków interpunkcyjnych i zamiana na małe litery\n",
    "    text = re.sub(r'[^\\w\\s]', '', text.lower())\n",
    "    tokens = text.split(' ')\n",
    "    return tokens\n",
    "\n",
    "word_counts = {}\n",
    "for document in documents:\n",
    "    tokens = preprocess_text(document)\n",
    "    for token in tokens:\n",
    "        if token in word_counts:\n",
    "            word_counts[token] += 1\n",
    "        else:\n",
    "            word_counts[token] = 1\n",
    "            \n",
    "vocabulary = list(word_counts.keys())\n",
    "\n",
    "bow_matrix = []\n",
    "for document in documents:\n",
    "    tokens = preprocess_text(document)\n",
    "    bow_vector = [(lambda x: 1 if (x in tokens) else 0)(x) for x in vocabulary]\n",
    "    bow_matrix.append(bow_vector)\n",
    "\n",
    "print(\"Słownik (unikalne słowa):\", vocabulary)\n",
    "\n",
    "print(\"Macierz Bag of Words:\")\n",
    "for bow_vector in bow_matrix:\n",
    "    print(bow_vector)"
   ],
   "metadata": {
    "collapsed": false,
    "ExecuteTime": {
     "end_time": "2023-11-17T07:59:10.189441600Z",
     "start_time": "2023-11-17T07:59:10.160604600Z"
    }
   },
   "id": "c2eb7a603bdbd0dd"
  },
  {
   "cell_type": "code",
   "execution_count": null,
   "outputs": [],
   "source": [],
   "metadata": {
    "collapsed": false
   },
   "id": "fb3edde4007ff39f"
  }
 ],
 "metadata": {
  "kernelspec": {
   "display_name": "Python 3",
   "language": "python",
   "name": "python3"
  },
  "language_info": {
   "codemirror_mode": {
    "name": "ipython",
    "version": 2
   },
   "file_extension": ".py",
   "mimetype": "text/x-python",
   "name": "python",
   "nbconvert_exporter": "python",
   "pygments_lexer": "ipython2",
   "version": "2.7.6"
  }
 },
 "nbformat": 4,
 "nbformat_minor": 5
}
