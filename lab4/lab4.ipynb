{
 "cells": [
  {
   "cell_type": "markdown",
   "source": [
    "#Machine learning - lab4"
   ],
   "metadata": {
    "collapsed": false
   },
   "id": "73a6ae09fd9ccf24"
  },
  {
   "cell_type": "code",
   "execution_count": 1,
   "outputs": [
    {
     "name": "stdout",
     "output_type": "stream",
     "text": [
      "   index                                               text  class\n",
      "0      0  Niesamowity film! Fabuła, aktorstwo, wszystko ...      0\n",
      "1     95      Kiepski dobór aktorów. Widać, że nie pasuj...      1\n",
      "2     80         Dynamiczna akcja. Nie ma chwili na nudę.\\n      0\n",
      "3     85      Film okazał się rozczarowaniem. Słabe wyko...      1\n",
      "4     61  Świetny balans między dramatem a komedią. Obej...      0\n"
     ]
    }
   ],
   "source": [
    "import pandas as pd\n",
    "\n",
    "#Wczytaj dane z plików\n",
    "\n",
    "with open('negative.txt','r',encoding='utf-8') as file:\n",
    "    negative_data = file.readlines()\n",
    "    \n",
    "with open('positive.txt','r',encoding='utf-8') as file:\n",
    "    positive_data = file.readlines()\n",
    "    \n",
    "#Przydziel klasy (0 - positive, 1 - negative)\n",
    "dataFrame_1 = pd.DataFrame({'text': positive_data, 'class': 0})\n",
    "dataFrame_2 = pd.DataFrame({'text': negative_data, 'class': 1})\n",
    "\n",
    "#Połącz ramki danych\n",
    "df = pd.concat([dataFrame_1, dataFrame_2], ignore_index=True)\n",
    "\n",
    "#Zmieszaj dane\n",
    "df = df.sample(frac=1).reset_index()\n",
    "\n",
    "#Show data\n",
    "print(df.head())"
   ],
   "metadata": {
    "collapsed": false,
    "ExecuteTime": {
     "end_time": "2023-11-24T12:57:57.137682900Z",
     "start_time": "2023-11-24T12:57:56.437742Z"
    }
   },
   "id": "7ff3fcfcef206f37"
  },
  {
   "cell_type": "code",
   "execution_count": 2,
   "outputs": [
    {
     "name": "stdout",
     "output_type": "stream",
     "text": [
      "['20' '80' 'absolutnie' 'adaptacja' 'akcja' 'akcji' 'akcję' 'aktorami'\n",
      " 'aktorska' 'aktorskiego' 'aktorstwo' 'aktorzy' 'aktorów' 'albo' 'ale'\n",
      " 'atmosfera' 'atmosfery' 'atmosferę' 'autentyczności' 'autorowi' 'aż'\n",
      " 'balans' 'banalna' 'bardzo' 'barw' 'bez' 'bezsensowna' 'bliskimi'\n",
      " 'bohaterów' 'brak' 'brakiem' 'brutalności' 'brzmią' 'budowaniu' 'budżet'\n",
      " 'budżetu' 'by' 'być' 'był' 'było' 'były' 'będzie' 'casting' 'cała'\n",
      " 'całość' 'cały' 'celu' 'chaotyczna' 'chaotyczny' 'charaktery'\n",
      " 'charakteryzacja' 'chciał' 'chemia' 'chodzi' 'chodziło' 'chronologię'\n",
      " 'chwil' 'chwile' 'chwili' 'ciekawe' 'ciekawego' 'ciekawy' 'cieszę'\n",
      " 'ciągnie' 'co' 'coś' 'czas' 'czasami' 'czasem' 'czasie' 'czasu' 'czegoś'\n",
      " 'czuję' 'czułem' 'czy' 'czysty' 'częścią' 'daje' 'dalej' 'dialogi' 'do'\n",
      " 'dobrana' 'dobrze' 'dobór' 'dodaje' 'dodają' 'dodatkowego' 'dodatkowej'\n",
      " 'dopasowanie' 'doskonale' 'doskonałe' 'doskonały' 'dość' 'dramatem'\n",
      " 'dramatu' 'dramatyczne' 'dreszczem' 'drugiej' 'duże' 'dużo' 'dynamiczna'\n",
      " 'dynamiki' 'działa' 'działania' 'dziur' 'długi' 'długie' 'długo'\n",
      " 'dźwiękowa' 'efekciarskie' 'efektach' 'efekty' 'efektów' 'ekipa'\n",
      " 'ekranie' 'ekranu' 'element' 'emocje' 'emocji' 'emocjonalnie'\n",
      " 'emocjonujące' 'epilog' 'epoki' 'fabularne' 'fabule' 'fabuła' 'fabuły'\n",
      " 'fabułę' 'fanom' 'fantastyczne' 'fascynujący' 'fenomenalny' 'film'\n",
      " 'filmowi' 'filmu' 'filmów' 'gadania' 'genialna' 'genialne' 'genialny'\n",
      " 'genialną' 'go' 'godny' 'gorszy' 'gotów' 'gra' 'gubi' 'gwarantowane'\n",
      " 'głośna' 'głównej' 'głównych' 'głębi' 'głęboka' 'głębokim' 'głębszego'\n",
      " 'historia' 'historii' 'historię' 'humoru' 'ich' 'idealny' 'inne' 'innego'\n",
      " 'innej' 'innych' 'inteligencji' 'intensywne' 'interesujący' 'intrygujące'\n",
      " 'intrygujący' 'jak' 'jakbym' 'jakbyśmy' 'jakie' 'jakości' 'jasnego'\n",
      " 'jeden' 'jednego' 'jego' 'jest' 'jutro' 'już' 'kadr' 'kalka' 'kamery'\n",
      " 'kapitalna' 'kapitalne' 'kapitalny' 'każda' 'każde' 'każdej' 'każdy'\n",
      " 'każdą' 'kiepski' 'kiepskie' 'kiepsko' 'kilku' 'kinematografii' 'klimat'\n",
      " 'klimatu' 'kolorystyka' 'kolorów' 'komediowe' 'komedią' 'komedię'\n",
      " 'kompletnie' 'kontrastów' 'kostiumów' 'końca' 'końcem' 'krajobrazów'\n",
      " 'krótkie' 'książki' 'ktoś' 'która' 'które' 'którego' 'który' 'lat'\n",
      " 'lepiej' 'lepsze' 'lepszy' 'lepszych' 'logiki' 'los' 'ma' 'magiczny'\n",
      " 'mają' 'malowany' 'malowniczych' 'minutach' 'minuty' 'mistrza'\n",
      " 'mistrzostwo' 'mistrzowskie' 'między' 'miłosna' 'mnie' 'mniej' 'mocne'\n",
      " 'mocno' 'mocny' 'mogłem' 'moich' 'momencie' 'momentu' 'momentów'\n",
      " 'monologi' 'monotonna' 'montaż' 'motyw' 'motywu' 'motywy' 'można'\n",
      " 'muzyczne' 'muzyka' 'muzyki' 'myślałem' 'mógłby' 'męczące' 'męczący' 'na'\n",
      " 'nabiera' 'nachalny' 'naciąganie' 'nad' 'nadaje' 'najgłębsze'\n",
      " 'najlepszych' 'najmniejszego' 'najwyższym' 'napisane' 'napisał'\n",
      " 'napięcia' 'napięciu' 'naprawdę' 'narracji' 'naturalność' 'nic' 'nich'\n",
      " 'nie' 'niebanalny' 'niechlujne' 'nieciekawa' 'nieciekawe' 'nieczytelny'\n",
      " 'niektóre' 'niektórzy' 'nieporozumienie' 'niepotrzebne' 'niepotrzebnie'\n",
      " 'niepotrzebnych' 'nieprzekonujące' 'nieprzewidywalnie' 'nieprzygotowani'\n",
      " 'nierealistyczne' 'niesamowite' 'niesamowity' 'niespodzianek' 'niestety'\n",
      " 'nieudane' 'niewiele' 'niewymuszone' 'niezapomniane' 'niezdarnie'\n",
      " 'niezwykła' 'niezwykłe' 'nijaka' 'nijaki' 'nim' 'nimi' 'niskim' 'niż'\n",
      " 'nowego' 'nuda' 'nudna' 'nudny' 'nudę' 'obejrzany' 'obejrzałem'\n",
      " 'obejrzeniu' 'obejrzeć' 'obietnic' 'obraz' 'obsada' 'oczekiwania'\n",
      " 'oczekiwałem' 'oczekiwań' 'od' 'oddali' 'oddech' 'oderwać' 'odkrycie'\n",
      " 'odpowiednim' 'odwzorowanie' 'oglądanie' 'oglądać' 'ograniczony'\n",
      " 'ogromne' 'ogóle' 'okazał' 'oklepany' 'określa' 'opowiedzianej'\n",
      " 'oryginalne' 'oryginalności' 'oryginału' 'osiągnąć' 'ostatnich' 'paleta'\n",
      " 'pamięci' 'pamięć' 'pasuje' 'pasują' 'patrzeć' 'perfekcyjne' 'pewnym'\n",
      " 'pewnymi' 'pełen' 'pełne' 'pierwszej' 'pierwszych' 'placement' 'plecach'\n",
      " 'po' 'poboczne' 'pobocznych' 'poczucie' 'początek' 'początkowe'\n",
      " 'początku' 'podejście' 'podkreśla' 'podąża' 'polecam' 'polecenia'\n",
      " 'polega' 'polotu' 'pomysł' 'popis' 'porażka' 'porusza' 'poruszać'\n",
      " 'poruszyć' 'porządną' 'postaci' 'postaciami' 'postacie' 'postać'\n",
      " 'potencjału' 'potrafi' 'potrafili' 'potrafią' 'poważnie' 'powodu'\n",
      " 'pozbawione' 'poziom' 'poziomie' 'poziomu' 'pozostawia' 'pozostawił'\n",
      " 'pozytywne' 'połowie' 'połączenie' 'pracowała' 'prawdziwe' 'prawdziwych'\n",
      " 'prezentuje' 'produkcję' 'produkt' 'prolog' 'prowadziła' 'przed'\n",
      " 'przejścia' 'przekaz' 'przemocy' 'przemyślana' 'przemyślany' 'przenieśli'\n",
      " 'przerysowane' 'przesadne' 'przesadnie' 'przesadzone' 'przestać'\n",
      " 'przesłania' 'przesłanie' 'przesłaniem' 'przewidywalna' 'przewidywalne'\n",
      " 'przewidywalny' 'przewidzenia' 'przewidzieć' 'przewodni' 'przewodniego'\n",
      " 'przez' 'przezroczysta' 'przydługi' 'przypadkowych' 'przytłaczają'\n",
      " 'próbują' 'późno' 'pędzlem' 'płaskie' 'płynnie' 'płytki' 'razu' 'razy'\n",
      " 'refleksji' 'relacjach' 'rewelacyjna' 'rewelacyjnie' 'reżyser' 'reżysera'\n",
      " 'reżyseria' 'reżyserii' 'robi' 'roku' 'role' 'roli' 'romantyzmu'\n",
      " 'rozczarowanie' 'rozczarowaniem' 'rozmów' 'rozrywka' 'rozwija'\n",
      " 'rozwiązania' 'rozwlekłe' 'rozśmiesza' 'ról' 'różnorodnością' 'samego'\n",
      " 'satysfakcji' 'scena' 'scenami' 'scenariusz' 'sceny' 'schematami'\n",
      " 'schematyczna' 'seansie' 'sens' 'sensu' 'serce' 'się' 'skomplikowany'\n",
      " 'skonstruowane' 'skłania' 'solidnej' 'soundtrack' 'specjalne'\n",
      " 'specjalnego' 'specjalnych' 'spełnił' 'spodziewałem' 'sposób' 'sprawia'\n",
      " 'spójności' 'spędzenie' 'starannie' 'stracił' 'strata' 'stylu'\n",
      " 'subtelność' 'swoich' 'swoje' 'swoją' 'swój' 'symbolika' 'sytuacji'\n",
      " 'szary' 'szczegółu' 'szkoda' 'sztuczne' 'sztuczny' 'szybki' 'są' 'słabe'\n",
      " 'słabnie' 'słaby' 'słowo' 'słuchał' 'służą' 'tajemniczych' 'taki'\n",
      " 'takiej' 'teaserze' 'tego' 'tematu' 'tematy' 'tempa' 'tempie' 'tempo'\n",
      " 'ten' 'to' 'tonacji' 'tonalnego' 'tonu' 'totalna' 'totalne' 'totalny'\n",
      " 'traci' 'tracić' 'trafiłem' 'treść' 'trudne' 'trudno' 'trwa' 'trzyma'\n",
      " 'trzymają' 'twarze' 'twarzy' 'twórcy' 'ucho' 'uczucia' 'ujęcia' 'układa'\n",
      " 'unikalna' 'urok' 'utartymi' 'utożsamić' 'uwierzenia' 'uwierzyć'\n",
      " 'uśmiechem' 'użycie' 'walki' 'wart' 'warto' 'wartościami' 'ważne'\n",
      " 'wcielili' 'wciąga' 'wciągająca' 'wciągające' 'wciągający' 'wciągnął'\n",
      " 'wiadomo' 'widać' 'widza' 'widziane' 'widział' 'widziałem' 'wieczoru'\n",
      " 'wieczór' 'wiedziałem' 'wiele' 'wielkie' 'wielokrotnie' 'wiem' 'wiernie'\n",
      " 'wizualne' 'wizualnie' 'wizualnych' 'więcej' 'większość' 'wniosły'\n",
      " 'wnosi' 'wnoszą' 'wolny' 'wpada' 'wpasowuje' 'wrażenia' 'wrażenie'\n",
      " 'wspaniała' 'wspaniałe' 'wstawki' 'wstrząsa' 'wstrząsające' 'wszystko'\n",
      " 'wychodzą' 'wydaje' 'wydają' 'wydarzenia' 'wydarzeń' 'wydarzy' 'wygląda'\n",
      " 'wyglądają' 'wyjaśnienia' 'wyjątkowego' 'wyjątkowy' 'wykonanie'\n",
      " 'wykorzystanie' 'wykreowana' 'wymiaru' 'wyrazista' 'wyrazistego'\n",
      " 'wyrazistych' 'wyważenia' 'wyśmienity' 'wzbogaca' 'wzruszająca'\n",
      " 'wzruszający' 'wątkami' 'wątki' 'wątków' 'wątpliwy' 'własnych' 'za'\n",
      " 'zabawne' 'zachowanie' 'zaczyna' 'zadowalającego' 'zagrane' 'zagubiony'\n",
      " 'zainteresować' 'zainteresował' 'zakamarkach' 'zakochani' 'zakończenie'\n",
      " 'zakręcony' 'zapadający' 'zapamiętać' 'zapomnieć' 'zapomnę' 'zaskakujące'\n",
      " 'zaskakujących' 'zaskoczenia' 'zaskoczenie' 'zaskoczeń' 'zaskoczyć'\n",
      " 'zauważalne' 'zawiedziony' 'zbliżenia' 'zbyt' 'zdecydowanie' 'zdjęcia'\n",
      " 'zmarnowani' 'zmienia' 'znaczenie' 'znaczy' 'znakomicie' 'znakomita'\n",
      " 'znakomite' 'znakomity' 'znudzony' 'zorientować' 'zostanie' 'zostawia'\n",
      " 'zrealizowane' 'zrobione' 'zrozumieć' 'zrównoważenia' 'zwroty' 'łez'\n",
      " 'łączy' 'ścieżka' 'ślad' 'śladu' 'światło' 'świetna' 'świetne' 'świetnie'\n",
      " 'świetny' 'świeżości' 'żaden' 'że' 'żenujące']\n",
      "[[0 0 0 ... 0 0 0]\n",
      " [0 0 0 ... 0 1 0]\n",
      " [0 0 0 ... 0 0 0]\n",
      " ...\n",
      " [0 0 0 ... 0 0 0]\n",
      " [0 0 0 ... 0 0 0]\n",
      " [0 0 0 ... 0 0 0]]\n"
     ]
    }
   ],
   "source": [
    "from sklearn.feature_extraction.text import CountVectorizer\n",
    "#Utwórz słownik bag of words\n",
    "\n",
    "vectorizer = CountVectorizer()\n",
    "bow =vectorizer.fit_transform(df['text'])\n",
    "\n",
    "dictionary = vectorizer.get_feature_names_out()\n",
    "print(dictionary)\n",
    "print(bow.toarray())"
   ],
   "metadata": {
    "collapsed": false,
    "ExecuteTime": {
     "end_time": "2023-11-24T12:57:57.791495900Z",
     "start_time": "2023-11-24T12:57:57.139676400Z"
    }
   },
   "id": "4fc5d03487a489c6"
  },
  {
   "cell_type": "code",
   "execution_count": 3,
   "outputs": [
    {
     "name": "stdout",
     "output_type": "stream",
     "text": [
      "{'film': 55, 'się': 43, 'nie': 39, 'brak': 25, 'który': 20, 'fabuła': 19, 'jest': 17, 'trudno': 15, 'zbyt': 14, 'dialogi': 11, 'między': 8, 'efekty': 8, 'postaci': 8, 'widać': 7, 'trzyma': 7, 'postacie': 7, 'aktorzy': 7, 'narracji': 7, 'kiepskie': 7, 'emocje': 7, 'sensu': 6, 'mnie': 6, 'filmu': 6, 'tempo': 6, 'zakończenie': 5, 'czasu': 5, 'kiepsko': 5, 'muzyka': 5, 'długo': 5, 'specjalne': 5, 'które': 5, 'wspaniała': 5, 'sceny': 5, 'nic': 5, 'aktorstwo': 4, 'wszystko': 4, 'poziomie': 4, 'dobór': 4, 'akcja': 4, 'znakomicie': 4, 'głębi': 4, 'napięciu': 4, 'doskonałe': 4, 'ujęcia': 4, 'każdy': 4, 'coś': 4, 'jak': 4, 'robi': 4, 'drugiej': 4, 'połowie': 4, 'przewidywalna': 4, 'niektóre': 4, 'czułem': 4, 'każda': 4, 'pełen': 4, 'klimat': 4, 'uwierzyć': 4, 'ścieżka': 4, 'dźwiękowa': 4, 'historii': 4, 'rozwija': 4, 'wiele': 4, 'wydarzy': 4, 'absolutnie': 4, 'nieciekawe': 4, 'zrealizowane': 4, 'albo': 4, 'historia': 4, 'najwyższym': 3, 'kiepski': 3, 'aktorów': 3, 'ról': 3, 'wykonanie': 3, 'dramatem': 3, 'komedią': 3, 'zainteresował': 3, 'akcji': 3, 'intensywne': 3, 'filmowi': 3, 'świetna': 3, 'tego': 3, 'reżyseria': 3, 'lepiej': 3, 'montaż': 3, 'fabuły': 3, 'już': 3, 'obejrzeniu': 3, 'zapomnieć': 3, 'kapitalny': 3, 'znaczenie': 3, 'przesadzone': 3, 'czasami': 3, 'więcej': 3, 'humoru': 3, 'naprawdę': 3, 'oddali': 3, 'filmów': 3, 'roku': 3, 'cieszę': 3, 'nudna': 3, 'spójności': 3, 'fabule': 3, 'chemia': 3, 'doskonale': 3, 'przez': 3, 'chodzi': 3, 'scenariusz': 3, 'kapitalne': 3, 'wątków': 3, 'sposób': 3, 'bohaterów': 3, 'zrozumieć': 3, 'polecam': 3, 'momentów': 3, 'wiedziałem': 3, 'wizualne': 3, 'bardzo': 3, 'pasują': 2, 'swoich': 2, 'dynamiczna': 2, 'chwili': 2, 'nudę': 2, 'słabe': 2, 'balans': 2, 'całość': 2, 'sztuczne': 2, 'ogóle': 2, 'szkoda': 2, 'jego': 2, 'oglądanie': 2, 'być': 2, 'końca': 2, 'kamery': 2, 'wizualnie': 2, 'prezentuje': 2, 'wrażenia': 2, 'motyw': 2, 'wnosi': 2, 'wyjątkowego': 2, 'pasuje': 2, 'wygląda': 2, 'perfekcyjne': 2, 'epoki': 2, 'totalna': 2, 'znakomita': 2, 'gra': 2, 'aktorska': 2, 'duże': 2, 'wrażenie': 2, 'wyrazistego': 2, 'wielkie': 2, 'rozczarowanie': 2, 'myślałem': 2, 'będzie': 2, 'nudny': 2, 'ciągnie': 2, 'słabnie': 2, 'zawiedziony': 2, 'zaskoczenia': 2, 'przesadne': 2, 'banalna': 2, 'jakbym': 2, 'zdecydowanie': 2, 'zostawia': 2, 'ślad': 2, 'charakteryzacja': 2, 'dobrze': 2, 'sprawia': 2, 'przesłania': 2, 'przemyślana': 2, 'swoje': 2, 'mniej': 2, 'znaczy': 2, 'casting': 2, 'efektów': 2, 'specjalnych': 2, 'warto': 2, 'obejrzeć': 2, 'traci': 2, 'swój': 2, 'jeden': 2, 'żenujące': 2, 'ktoś': 2, 'napisał': 2, 'poważnie': 2, 'wyjątkowy': 2, 'ten': 2, 'monotonna': 2, 'jednego': 2, 'tonu': 2, 'mocne': 2, 'skłania': 2, 'refleksji': 2, 'efekciarskie': 2, 'postaciami': 2, 'ich': 2, 'płynnie': 2, 'nieprzewidywalnie': 2, 'mogłem': 2, 'oderwać': 2, 'cały': 2, 'nich': 2, 'spodziewałem': 2, 'nieporozumienie': 2, 'ciekawe': 2, 'twórcy': 2, 'kapitalna': 2, 'widziałem': 2, 'świeżości': 2, 'dużo': 2, 'męczące': 2, 'wstrząsające': 2, 'każde': 2, 'słowo': 2, 'niestety': 2, 'minutach': 2, 'pamięci': 2, 'dodają': 2, 'wyrazistych': 2, 'płaskie': 2, 'spełnił': 2, 'szybki': 2, 'wolny': 2, 'świetne': 2, 'bez': 2, 'czy': 2, 'zaskakujących': 2, 'cała': 2, 'przewidzenia': 2, 'pełne': 2, 'przed': 2, 'końcem': 2, 'scena': 2, 'wciągający': 2, 'kinematografii': 2, 'nowego': 2, 'wciąga': 2, 'pierwszej': 2, 'minuty': 2, 'było': 2, 'budżetu': 2, 'porządną': 2, 'produkcję': 2, 'aktorami': 2, 'działa': 2, 'nimi': 2, 'utożsamić': 2, 'przestać': 2, 'porusza': 2, 'można': 2, 'tonacji': 2, 'która': 2, 'nierealistyczne': 2, 'motywy': 2, 'przewidywalny': 2, 'niesamowity': 1, 'okazał': 1, 'rozczarowaniem': 1, 'świetny': 1, 'obejrzany': 1, 'uśmiechem': 1, 'twarzy': 1, 'skonstruowane': 1, 'układa': 1, 'genialną': 1, 'nieprzekonujące': 1, 'satysfakcji': 1, 'seansie': 1, 'mógłby': 1, 'lepszy': 1, 'emocji': 1, 'zaskakujące': 1, 'zwroty': 1, 'samego': 1, 'przesadnie': 1, 'dramatyczne': 1, 'przerysowane': 1, 'pozostawił': 1, 'dreszczem': 1, 'plecach': 1, 'ciekawy': 1, 'przewodni': 1, 'nadaje': 1, 'dodatkowego': 1, 'wymiaru': 1, 'znakomite': 1, 'światło': 1, 'kolorystyka': 1, 'rewelacyjnie': 1, 'wspaniałe': 1, 'dobrana': 1, 'atmosfery': 1, 'słaby': 1, 'kolorów': 1, 'paleta': 1, 'barw': 1, 'lat': 1, 'odwzorowanie': 1, 'jakbyśmy': 1, 'przenieśli': 1, 'czasie': 1, 'zakręcony': 1, 'nieczytelny': 1, 'porażka': 1, 'obsada': 1, 'godny': 1, 'polecenia': 1, 'zapadający': 1, 'pamięć': 1, 'niesamowite': 1, 'motywu': 1, 'przewodniego': 1, 'wpada': 1, 'ucho': 1, 'tempa': 1, 'pewnym': 1, 'momencie': 1, 'przejścia': 1, 'scenami': 1, 'niezdarnie': 1, 'zrobione': 1, 'brakiem': 1, 'naciąganie': 1, 'wydarzenia': 1, 'trudne': 1, 'uwierzenia': 1, 'widział': 1, 'długi': 1, 'epilog': 1, 'trwa': 1, 'fantastyczne': 1, 'ogromne': 1, 'stylu': 1, 'reżyserii': 1, 'szary': 1, 'nijaki': 1, 'wyrazista': 1, 'postać': 1, 'unikalna': 1, 'wykreowana': 1, 'nabiera': 1, 'dynamiki': 1, 'jasnego': 1, 'celu': 1, 'symbolika': 1, 'element': 1, 'kompletnie': 1, 'roli': 1, 'użycie': 1, 'wydaje': 1, 'sztuczny': 1, 'wzruszający': 1, 'początkowe': 1, 'były': 1, 'lepsze': 1, 'wyśmienity': 1, 'świetnie': 1, 'charaktery': 1, 'lepszych': 1, 'trafiłem': 1, 'wzbogaca': 1, 'mocno': 1, 'polega': 1, 'efektach': 1, 'wizualnych': 1, 'solidnej': 1, 'brzmią': 1, 'kalka': 1, 'innych': 1, 'autentyczności': 1, 'przesłanie': 1, 'głęboka': 1, 'treść': 1, 'służą': 1, 'czysty': 1, 'popis': 1, 'reżysera': 1, 'niezwykła': 1, 'łączy': 1, 'zauważalne': 1, 'fenomenalny': 1, 'soundtrack': 1, 'wpasowuje': 1, 'atmosferę': 1, 'rozrywka': 1, 'ekranu': 1, 'dopasowanie': 1, 'zakochani': 1, 'mocny': 1, 'przekaz': 1, 'nad': 1, 'pewnymi': 1, 'wartościami': 1, 'gorszy': 1, 'niż': 1, 'totalne': 1, 'większość': 1, 'wiadomo': 1, 'zagubiony': 1, 'rozwiązania': 1, 'fabularne': 1, 'potrafili': 1, 'zaskoczyć': 1, 'adaptacja': 1, 'książki': 1, 'wiernie': 1, 'oryginału': 1, 'oklepany': 1, 'którego': 1, 'razy': 1, 'niepotrzebnych': 1, 'przemocy': 1, 'gotów': 1, 'taki': 1, 'poziom': 1, 'brutalności': 1, 'wciągająca': 1, 'przewidzieć': 1, 'dalej': 1, 'niechlujne': 1, 'zadowalającego': 1, 'wyjaśnienia': 1, 'magiczny': 1, 'idealny': 1, 'wieczór': 1, 'bliskimi': 1, 'znakomity': 1, 'spędzenie': 1, 'wieczoru': 1, 'obejrzałem': 1, 'niewiele': 1, 'wart': 1, 'innego': 1, 'strata': 1, 'nijaka': 1, 'sens': 1, 'chaotyczna': 1, 'stracił': 1, 'urok': 1, 'pierwszych': 1, 'zostanie': 1, 'gwarantowane': 1, 'wątpliwy': 1, 'kostiumów': 1, 'wyglądają': 1, 'innej': 1, 'przypadkowych': 1, 'mają': 1, 'wciągające': 1, 'wątki': 1, 'poboczne': 1, 'głównej': 1, 'atmosfera': 1, 'czuję': 1, 'częścią': 1, 'opowiedzianej': 1, 'niepotrzebnie': 1, 'skomplikowany': 1, 'autorowi': 1, 'chodziło': 1, 'wydają': 1, 'nieprzygotowani': 1, 'oczekiwania': 1, 'teaserze': 1, 'obietnic': 1, 'wnoszą': 1, 'niebanalny': 1, 'pomysł': 1, 'fabułę': 1, 'oryginalne': 1, 'podejście': 1, 'tematu': 1, 'przezroczysta': 1, 'schematyczna': 1, 'przewidywalne': 1, 'totalny': 1, 'klimatu': 1, 'wciągnął': 1, 'żaden': 1, 'dziur': 1, 'niewymuszone': 1, 'słuchał': 1, 'prawdziwych': 1, 'rozmów': 1, 'kadr': 1, 'starannie': 1, 'przemyślany': 1, 'monologi': 1, 'gadania': 1, 'walki': 1, 'potrafią': 1, 'poruszać': 1, 'wyważenia': 1, 'tonalnego': 1, 'określa': 1, 'inteligencji': 1, 'niepotrzebne': 1, 'wstawki': 1, 'komediowe': 1, 'próbują': 1, 'zabawne': 1, 'ale': 1, 'wychodzą': 1, 'mistrzowskie': 1, 'najmniejszego': 1, 'szczegółu': 1, 'nachalny': 1, 'produkt': 1, 'placement': 1, 'naturalność': 1, 'sytuacji': 1, 'oddech': 1, 'napisane': 1, 'zachowanie': 1, 'ekipa': 1, 'pracowała': 1, 'ostatnich': 1, 'chwil': 1, 'wykorzystanie': 1, 'potencjału': 1, 'aktorskiego': 1, 'niektórzy': 1, 'zmarnowani': 1, 'genialna': 1, 'podkreśla': 1, 'chaotyczny': 1, 'chronologię': 1, 'wydarzeń': 1, 'mistrzostwo': 1, 'budowaniu': 1, 'napięcia': 1, 'patrzeć': 1, 'serce': 1, 'prawdziwe': 1, 'doskonały': 1, 'genialne': 1, 'wzruszająca': 1, 'miłosna': 1, 'niezapomniane': 1, 'chwile': 1, 'romantyzmu': 1, 'niezwykłe': 1, 'zdjęcia': 1, 'malowniczych': 1, 'krajobrazów': 1, 'pozytywne': 1, 'zaskoczenie': 1, 'wiem': 1, 'reżyser': 1, 'chciał': 1, 'osiągnąć': 1, 'najlepszych': 1, 'jakie': 1, 'genialny': 1, 'rewelacyjna': 1, 'ważne': 1, 'tematy': 1, 'emocjonujące': 1, 'prowadziła': 1, 'momentu': 1, 'fascynujący': 1, 'początku': 1, 'oglądać': 1, 'obraz': 1, 'malowany': 1, 'pędzlem': 1, 'mistrza': 1, 'długie': 1, 'zbliżenia': 1, 'twarze': 1, 'przytłaczają': 1, 'widza': 1, 'odpowiednim': 1, 'tempie': 1, 'różnorodnością': 1, 'trzymają': 1, 'poziomu': 1, 'czasem': 1, 'działania': 1, 'pozbawione': 1, 'logiki': 1, 'zapamiętać': 1, 'wniosły': 1, 'daje': 1, 'zapomnę': 1, 'jutro': 1, 'specjalnego': 1, 'przydługi': 1, 'prolog': 1, 'zaczyna': 1, 'późno': 1, 'zainteresować': 1, 'wcielili': 1, 'role': 1, 'zrównoważenia': 1, 'wątkami': 1, 'rozwlekłe': 1, 'inne': 1, 'krótkie': 1, 'wielokrotnie': 1, 'widziane': 1, 'płytki': 1, 'relacjach': 1, 'początek': 1, 'razu': 1, 'los': 1, 'głównych': 1, 'gubi': 1, 'własnych': 1, 'zakamarkach': 1, 'nieudane': 1, 'budżet': 1, 'był': 1, 'ograniczony': 1, 'intrygujący': 1, 'niespodzianek': 1, 'fanom': 1, 'tajemniczych': 1, 'tracić': 1, 'nuda': 1, 'bezsensowna': 1, 'wstrząsa': 1, 'emocjonalnie': 1, 'nim': 1, 'muzyki': 1, 'dodaje': 1, 'dodatkowej': 1, 'polotu': 1, 'oryginalności': 1, 'podąża': 1, 'utartymi': 1, 'schematami': 1, 'muzyczne': 1, 'każdej': 1, 'dość': 1, 'zaskoczeń': 1, 'odkrycie': 1, 'takiej': 1, 'jakości': 1, 'niskim': 1, 'zmienia': 1, 'dramatu': 1, 'komedię': 1, 'powodu': 1, 'nieciekawa': 1, 'znudzony': 1, 'kilku': 1, 'pobocznych': 1, 'zorientować': 1, 'czas': 1, 'rozśmiesza': 1, 'łez': 1, 'poczucie': 1, 'moich': 1, 'oczekiwań': 1, 'oczekiwałem': 1, 'czegoś': 1, 'męczący': 1, 'ciekawego': 1, 'zagrane': 1, 'ekranie': 1, 'każdą': 1, 'subtelność': 1, 'głębszego': 1, 'pozostawia': 1, 'śladu': 1, 'intrygujące': 1, 'swoją': 1, 'historię': 1, 'interesujący': 1, 'połączenie': 1, 'głębokim': 1, 'przesłaniem': 1, 'kontrastów': 1, 'głośna': 1, 'akcję': 1, 'potrafi': 1, 'poruszyć': 1, 'najgłębsze': 1, 'uczucia': 1}\n"
     ]
    }
   ],
   "source": [
    "import re\n",
    "def preprocess_text(text):\n",
    "    #Usunięcie znaków interpunkcyjnych i zamiana na małe litery\n",
    "    text = re.sub(r'[^\\w\\s]', '', text.lower())\n",
    "    tokens = [token.rstrip('\\n') for token in text.split(' ')]\n",
    "\n",
    "    min_word_length = 3\n",
    "    tokens = [token for token in tokens if token and len(token) >= min_word_length]\n",
    "    return tokens\n",
    "\n",
    "word_counts_all = {}\n",
    "#najczęsciej występujące słowa dla całego zbioru\n",
    "for row in df['text']:\n",
    "    tokens = preprocess_text(row)\n",
    "    for token in tokens:\n",
    "        if token in word_counts_all:\n",
    "            word_counts_all[token] += 1\n",
    "        else:\n",
    "            word_counts_all[token] = 1\n",
    "            \n",
    "print(dict(sorted(word_counts_all.items(), key=lambda x:x[1], reverse=True)))"
   ],
   "metadata": {
    "collapsed": false,
    "ExecuteTime": {
     "end_time": "2023-11-24T12:57:57.866243900Z",
     "start_time": "2023-11-24T12:57:57.791495900Z"
    }
   },
   "id": "583403674097e6dc"
  },
  {
   "cell_type": "code",
   "execution_count": 4,
   "outputs": [
    {
     "name": "stdout",
     "output_type": "stream",
     "text": [
      "{'film': 26, 'się': 20, 'który': 9, 'nie': 8, 'fabuła': 7, 'emocje': 7, 'jest': 7, 'wspaniała': 5, 'między': 5, 'pełen': 4, 'każda': 4, 'doskonałe': 4, 'tempo': 4, 'akcja': 4, 'trzyma': 4, 'napięciu': 4, 'znakomicie': 4, 'rozwija': 4, 'aktorzy': 4, 'trudno': 4, 'najwyższym': 3, 'poziomie': 3, 'zakończenie': 3, 'bardzo': 3, 'humoru': 3, 'naprawdę': 3, 'efekty': 3, 'świetna': 3, 'absolutnie': 3, 'cieszę': 3, 'klimat': 3, 'historii': 3, 'tego': 3, 'reżyseria': 3, 'narracji': 3, 'kapitalny': 3, 'postaci': 3, 'filmowi': 3, 'coś': 3, 'doskonale': 3, 'filmu': 3, 'dialogi': 3, 'intensywne': 3, 'oddali': 3, 'każdy': 3, 'znaczenie': 3, 'kapitalne': 3, 'chemia': 3, 'obejrzeniu': 3, 'zapomnieć': 3, 'mnie': 3, 'aktorstwo': 2, 'wszystko': 2, 'mogłem': 2, 'oderwać': 2, 'przez': 2, 'cały': 2, 'polecam': 2, 'specjalne': 2, 'robi': 2, 'wrażenie': 2, 'znakomita': 2, 'gra': 2, 'aktorska': 2, 'jeden': 2, 'filmów': 2, 'długo': 2, 'sposób': 2, 'dobrze': 2, 'zrealizowane': 2, 'historia': 2, 'porusza': 2, 'wyjątkowy': 2, 'muzyka': 2, 'scena': 2, 'przemyślana': 2, 'roku': 2, 'końca': 2, 'można': 2, 'przestać': 2, 'mocne': 2, 'skłania': 2, 'refleksji': 2, 'świetne': 2, 'sprawia': 2, 'perfekcyjne': 2, 'aktorów': 2, 'ról': 2, 'widać': 2, 'sceny': 2, 'akcji': 2, 'wciąga': 2, 'pierwszej': 2, 'minuty': 2, 'charakteryzacja': 2, 'kapitalna': 2, 'ujęcia': 2, 'kamery': 2, 'wizualnie': 2, 'prezentuje': 2, 'wciągający': 2, 'płynnie': 2, 'nieprzewidywalnie': 2, 'pełne': 2, 'balans': 2, 'dramatem': 2, 'komedią': 2, 'wydarzy': 2, 'wyjątkowego': 2, 'całość': 2, 'ścieżka': 2, 'dźwiękowa': 2, 'swoje': 2, 'dynamiczna': 2, 'chwili': 2, 'nudę': 2, 'każde': 2, 'słowo': 2, 'aktorami': 2, 'działa': 2, 'zostawia': 2, 'ślad': 2, 'głębi': 2, 'ciekawe': 2, 'twórcy': 2, 'niesamowity': 1, 'rozrywka': 1, 'ekranu': 1, 'doskonały': 1, 'scenariusz': 1, 'genialne': 1, 'wzruszający': 1, 'warto': 1, 'obejrzeć': 1, 'fantastyczne': 1, 'ogromne': 1, 'obsada': 1, 'godny': 1, 'polecenia': 1, 'najlepszych': 1, 'jakie': 1, 'widziałem': 1, 'genialny': 1, 'zostanie': 1, 'pamięci': 1, 'gwarantowane': 1, 'znakomity': 1, 'spędzenie': 1, 'wieczoru': 1, 'obejrzałem': 1, 'pozytywne': 1, 'zaskoczenie': 1, 'rewelacyjna': 1, 'ważne': 1, 'tematy': 1, 'trafiłem': 1, 'ten': 1, 'mistrzowskie': 1, 'wykonanie': 1, 'najmniejszego': 1, 'szczegółu': 1, 'odkrycie': 1, 'spodziewałem': 1, 'takiej': 1, 'jakości': 1, 'rozśmiesza': 1, 'łez': 1, 'poczucie': 1, 'fascynujący': 1, 'początku': 1, 'oglądać': 1, 'intrygujący': 1, 'niespodzianek': 1, 'fanom': 1, 'tajemniczych': 1, 'magiczny': 1, 'idealny': 1, 'wieczór': 1, 'bliskimi': 1, 'zapadający': 1, 'pamięć': 1, 'zdecydowanie': 1, 'lepszych': 1, 'przesłanie': 1, 'głęboka': 1, 'treść': 1, 'czas': 1, 'montaż': 1, 'nabiera': 1, 'dynamiki': 1, 'niebanalny': 1, 'pomysł': 1, 'fabułę': 1, 'oryginalne': 1, 'podejście': 1, 'tematu': 1, 'dopasowanie': 1, 'nich': 1, 'zakochani': 1, 'wyrazista': 1, 'postać': 1, 'unikalna': 1, 'wykreowana': 1, 'daje': 1, 'oddech': 1, 'świeżości': 1, 'kinematografii': 1, 'nowego': 1, 'fenomenalny': 1, 'soundtrack': 1, 'wpasowuje': 1, 'atmosferę': 1, 'niewymuszone': 1, 'czułem': 1, 'jakbym': 1, 'słuchał': 1, 'prawdziwych': 1, 'rozmów': 1, 'serce': 1, 'prawdziwe': 1, 'wcielili': 1, 'role': 1, 'wzruszająca': 1, 'miłosna': 1, 'niezapomniane': 1, 'chwile': 1, 'romantyzmu': 1, 'różnorodnością': 1, 'tonacji': 1, 'odwzorowanie': 1, 'epoki': 1, 'wygląda': 1, 'jakbyśmy': 1, 'przenieśli': 1, 'czasie': 1, 'połączenie': 1, 'głębokim': 1, 'przesłaniem': 1, 'kontrastów': 1, 'wyśmienity': 1, 'casting': 1, 'świetnie': 1, 'charaktery': 1, 'wciągająca': 1, 'przewidzieć': 1, 'dalej': 1, 'wspaniałe': 1, 'wnosi': 1, 'skonstruowane': 1, 'układa': 1, 'genialną': 1, 'intrygujące': 1, 'postacie': 1, 'swoją': 1, 'historię': 1, 'interesujący': 1, 'genialna': 1, 'podkreśla': 1, 'symbolika': 1, 'element': 1, 'wstrząsające': 1, 'potrafi': 1, 'poruszyć': 1, 'najgłębsze': 1, 'uczucia': 1, 'niezwykłe': 1, 'zdjęcia': 1, 'malowniczych': 1, 'krajobrazów': 1, 'fabule': 1, 'mistrzostwo': 1, 'budowaniu': 1, 'napięcia': 1, 'patrzeć': 1, 'zaskakujące': 1, 'zwroty': 1, 'samego': 1, 'odpowiednim': 1, 'tempie': 1, 'ciekawy': 1, 'motyw': 1, 'przewodni': 1, 'nadaje': 1, 'dodatkowego': 1, 'wymiaru': 1, 'ostatnich': 1, 'chwil': 1, 'znakomite': 1, 'światło': 1, 'kolorystyka': 1, 'rewelacyjnie': 1, 'wciągające': 1, 'wątki': 1, 'poboczne': 1, 'dodają': 1, 'głównej': 1, 'wizualne': 1, 'ekipa': 1, 'pracowała': 1, 'motywy': 1, 'muzyczne': 1, 'pasuje': 1, 'każdej': 1, 'świetny': 1, 'obejrzany': 1, 'uśmiechem': 1, 'twarzy': 1, 'emocjonujące': 1, 'prowadziła': 1, 'momentu': 1, 'mocny': 1, 'przekaz': 1, 'nad': 1, 'pewnymi': 1, 'wartościami': 1, 'zagrane': 1, 'ekranie': 1, 'każdą': 1, 'subtelność': 1, 'początek': 1, 'razu': 1, 'zainteresował': 1, 'los': 1, 'głównych': 1, 'bohaterów': 1, 'jak': 1, 'obraz': 1, 'malowany': 1, 'pędzlem': 1, 'mistrza': 1, 'rozwiązania': 1, 'fabularne': 1, 'potrafili': 1, 'zaskoczyć': 1, 'pozostawił': 1, 'dreszczem': 1, 'plecach': 1, 'wrażenia': 1, 'atmosfera': 1, 'czuję': 1, 'częścią': 1, 'opowiedzianej': 1, 'niezwykła': 1, 'postaciami': 1, 'ich': 1, 'łączy': 1, 'zauważalne': 1, 'dobór': 1, 'muzyki': 1, 'dodaje': 1, 'dodatkowej': 1, 'inteligencji': 1, 'niesamowite': 1, 'duże': 1, 'która': 1, 'wiedziałem': 1, 'adaptacja': 1, 'książki': 1, 'wiernie': 1, 'oryginału': 1, 'kadr': 1, 'starannie': 1, 'przemyślany': 1, 'wnoszą': 1, 'swoich': 1, 'wstrząsa': 1, 'emocjonalnie': 1, 'nim': 1}\n"
     ]
    }
   ],
   "source": [
    "#Najczęściej występujące słowa dla zbioru positive\n",
    "\n",
    "word_counts_positive = {}\n",
    "for row in dataFrame_1['text']:\n",
    "    tokens = preprocess_text(row)\n",
    "    for token in tokens:\n",
    "        if token in word_counts_positive:\n",
    "            word_counts_positive[token] += 1\n",
    "        else:\n",
    "            word_counts_positive[token] = 1\n",
    "\n",
    "print(dict(sorted(word_counts_positive.items(), key=lambda x:x[1], reverse=True)))"
   ],
   "metadata": {
    "collapsed": false,
    "ExecuteTime": {
     "end_time": "2023-11-24T12:57:57.880202400Z",
     "start_time": "2023-11-24T12:57:57.807441400Z"
    }
   },
   "id": "999bff8e417c7a9f"
  },
  {
   "cell_type": "code",
   "execution_count": 5,
   "outputs": [
    {
     "name": "stdout",
     "output_type": "stream",
     "text": [
      "{'nie': 31, 'film': 29, 'brak': 25, 'się': 23, 'zbyt': 14, 'fabuła': 12, 'trudno': 11, 'który': 11, 'jest': 10, 'dialogi': 8, 'kiepskie': 7, 'sensu': 6, 'postacie': 6, 'czasu': 5, 'nic': 5, 'widać': 5, 'efekty': 5, 'kiepsko': 5, 'postaci': 5, 'które': 5, 'wiele': 4, 'uwierzyć': 4, 'narracji': 4, 'przewidywalna': 4, 'drugiej': 4, 'połowie': 4, 'nieciekawe': 4, 'albo': 4, 'niektóre': 4, 'czułem': 3, 'lepiej': 3, 'chodzi': 3, 'zrozumieć': 3, 'kiepski': 3, 'dobór': 3, 'już': 3, 'mnie': 3, 'specjalne': 3, 'czasami': 3, 'między': 3, 'więcej': 3, 'wątków': 3, 'przesadzone': 3, 'spójności': 3, 'trzyma': 3, 'nudna': 3, 'długo': 3, 'momentów': 3, 'muzyka': 3, 'filmu': 3, 'sceny': 3, 'aktorzy': 3, 'fabuły': 3, 'jak': 3, 'totalna': 2, 'aktorstwo': 2, 'słabe': 2, 'wykonanie': 2, 'fabule': 2, 'przewidywalny': 2, 'zawiedziony': 2, 'nieporozumienie': 2, 'historia': 2, 'scenariusz': 2, 'pasują': 2, 'banalna': 2, 'być': 2, 'głębi': 2, 'nudny': 2, 'monotonna': 2, 'minutach': 2, 'niestety': 2, 'spełnił': 2, 'montaż': 2, 'mniej': 2, 'znaczy': 2, 'jednego': 2, 'tonu': 2, 'wiedziałem': 2, 'wydarzy': 2, 'przed': 2, 'końcem': 2, 'wizualne': 2, 'było': 2, 'budżetu': 2, 'porządną': 2, 'produkcję': 2, 'ciągnie': 2, 'słabnie': 2, 'zaskakujących': 2, 'cała': 2, 'przewidzenia': 2, 'żenujące': 2, 'ktoś': 2, 'napisał': 2, 'poważnie': 2, 'nimi': 2, 'utożsamić': 2, 'wielkie': 2, 'rozczarowanie': 2, 'myślałem': 2, 'będzie': 2, 'tempo': 2, 'szybki': 2, 'wolny': 2, 'wyrazistych': 2, 'bohaterów': 2, 'płaskie': 2, 'ogóle': 2, 'zainteresował': 2, 'szkoda': 2, 'jego': 2, 'oglądanie': 2, 'ścieżka': 2, 'dźwiękowa': 2, 'wszystko': 2, 'traci': 2, 'robi': 2, 'dużo': 2, 'efektów': 2, 'specjalnych': 2, 'męczące': 2, 'zrealizowane': 2, 'bez': 2, 'zakończenie': 2, 'swój': 2, 'efekciarskie': 2, 'ujęcia': 2, 'wyrazistego': 2, 'sztuczne': 2, 'nierealistyczne': 2, 'przesadne': 2, 'zaskoczenia': 2, 'czy': 2, 'przesłania': 2, 'strata': 1, 'nijaka': 1, 'okazał': 1, 'rozczarowaniem': 1, 'dziur': 1, 'absolutnie': 1, 'polecam': 1, 'męczący': 1, 'ciekawego': 1, 'nuda': 1, 'gorszy': 1, 'niż': 1, 'spodziewałem': 1, 'totalne': 1, 'bezsensowna': 1, 'niewiele': 1, 'wart': 1, 'obejrzeć': 1, 'coś': 1, 'innego': 1, 'przez': 1, 'większość': 1, 'wiadomo': 1, 'zagubiony': 1, 'zakręcony': 1, 'nieczytelny': 1, 'porażka': 1, 'niepotrzebnie': 1, 'skomplikowany': 1, 'autorowi': 1, 'chodziło': 1, 'aktorów': 1, 'swoich': 1, 'ról': 1, 'jakbym': 1, 'widział': 1, 'mógłby': 1, 'lepszy': 1, 'emocji': 1, 'totalny': 1, 'klimatu': 1, 'wciągnął': 1, 'żaden': 1, 'sposób': 1, 'nieudane': 1, 'budżet': 1, 'był': 1, 'ograniczony': 1, 'dość': 1, 'zaskoczeń': 1, 'napisane': 1, 'zachowanie': 1, 'roku': 1, 'wiem': 1, 'reżyser': 1, 'chciał': 1, 'osiągnąć': 1, 'warto': 1, 'tracić': 1, 'ten': 1, 'nieciekawa': 1, 'znudzony': 1, 'kilku': 1, 'płytki': 1, 'relacjach': 1, 'postaciami': 1, 'moich': 1, 'oczekiwań': 1, 'oczekiwałem': 1, 'czegoś': 1, 'przejścia': 1, 'scenami': 1, 'niezdarnie': 1, 'zrobione': 1, 'zapomnę': 1, 'jutro': 1, 'specjalnego': 1, 'polotu': 1, 'oryginalności': 1, 'podąża': 1, 'utartymi': 1, 'schematami': 1, 'oklepany': 1, 'motyw': 1, 'którego': 1, 'razy': 1, 'widziałem': 1, 'świeżości': 1, 'pobocznych': 1, 'zorientować': 1, 'wzbogaca': 1, 'przesadnie': 1, 'dramatyczne': 1, 'przerysowane': 1, 'sens': 1, 'chaotyczna': 1, 'niepotrzebnych': 1, 'walki': 1, 'potrafią': 1, 'poruszać': 1, 'mocno': 1, 'polega': 1, 'efektach': 1, 'wizualnych': 1, 'solidnej': 1, 'historii': 1, 'monologi': 1, 'gadania': 1, 'niechlujne': 1, 'zadowalającego': 1, 'wyjaśnienia': 1, 'przydługi': 1, 'prolog': 1, 'zaczyna': 1, 'późno': 1, 'zainteresować': 1, 'niepotrzebne': 1, 'wstawki': 1, 'komediowe': 1, 'próbują': 1, 'zabawne': 1, 'ale': 1, 'wychodzą': 1, 'głębszego': 1, 'pozostawia': 1, 'śladu': 1, 'pamięci': 1, 'stracił': 1, 'urok': 1, 'pierwszych': 1, 'dodają': 1, 'nachalny': 1, 'produkt': 1, 'placement': 1, 'naturalność': 1, 'sytuacji': 1, 'trzymają': 1, 'poziomu': 1, 'czasem': 1, 'duże': 1, 'oczekiwania': 1, 'teaserze': 1, 'obietnic': 1, 'stylu': 1, 'reżyserii': 1, 'szary': 1, 'nijaki': 1, 'dobrana': 1, 'pasuje': 1, 'atmosfery': 1, 'nieprzekonujące': 1, 'satysfakcji': 1, 'seansie': 1, 'która': 1, 'gubi': 1, 'własnych': 1, 'zakamarkach': 1, 'chaotyczny': 1, 'chronologię': 1, 'wydarzeń': 1, 'niskim': 1, 'poziomie': 1, 'wielokrotnie': 1, 'widziane': 1, 'motywy': 1, 'wnosi': 1, 'nowego': 1, 'kinematografii': 1, 'tonacji': 1, 'zmienia': 1, 'dramatu': 1, 'komedię': 1, 'powodu': 1, 'zapamiętać': 1, 'wniosły': 1, 'długie': 1, 'zbliżenia': 1, 'twarze': 1, 'przytłaczają': 1, 'widza': 1, 'użycie': 1, 'wydaje': 1, 'sztuczny': 1, 'casting': 1, 'kompletnie': 1, 'roli': 1, 'brakiem': 1, 'przypadkowych': 1, 'nich': 1, 'mają': 1, 'tempa': 1, 'pewnym': 1, 'momencie': 1, 'motywu': 1, 'przewodniego': 1, 'wpada': 1, 'ucho': 1, 'wstrząsające': 1, 'przemocy': 1, 'każdy': 1, 'gotów': 1, 'taki': 1, 'poziom': 1, 'brutalności': 1, 'wątpliwy': 1, 'kostiumów': 1, 'wyglądają': 1, 'innej': 1, 'epoki': 1, 'wykorzystanie': 1, 'potencjału': 1, 'aktorskiego': 1, 'niektórzy': 1, 'zmarnowani': 1, 'brzmią': 1, 'kalka': 1, 'innych': 1, 'filmów': 1, 'autentyczności': 1, 'naciąganie': 1, 'wydarzenia': 1, 'trudne': 1, 'uwierzenia': 1, 'wyważenia': 1, 'tonalnego': 1, 'określa': 1, 'dramatem': 1, 'komedią': 1, 'długi': 1, 'epilog': 1, 'trwa': 1, 'zdecydowanie': 1, 'przezroczysta': 1, 'schematyczna': 1, 'przewidywalne': 1, 'jasnego': 1, 'celu': 1, 'ich': 1, 'działania': 1, 'pozbawione': 1, 'logiki': 1, 'głośna': 1, 'akcję': 1, 'zrównoważenia': 1, 'wątkami': 1, 'rozwlekłe': 1, 'inne': 1, 'krótkie': 1, 'słaby': 1, 'kolorów': 1, 'wygląda': 1, 'paleta': 1, 'barw': 1, 'lat': 1, 'służą': 1, 'czysty': 1, 'popis': 1, 'reżysera': 1, 'klimat': 1, 'początkowe': 1, 'wrażenia': 1, 'były': 1, 'lepsze': 1, 'akcji': 1, 'wydają': 1, 'nieprzygotowani': 1}\n"
     ]
    }
   ],
   "source": [
    "#Najczęściej występujące słowa dla zbioru negative\n",
    "\n",
    "word_counts_negative = {}\n",
    "for row in dataFrame_2['text']:\n",
    "    tokens = preprocess_text(row)\n",
    "    for token in tokens:\n",
    "        if token in word_counts_negative:\n",
    "            word_counts_negative[token] += 1\n",
    "        else:\n",
    "            word_counts_negative[token] = 1\n",
    "\n",
    "print(dict(sorted(word_counts_negative.items(), key=lambda x:x[1], reverse=True)))"
   ],
   "metadata": {
    "collapsed": false,
    "ExecuteTime": {
     "end_time": "2023-11-24T12:57:57.881195200Z",
     "start_time": "2023-11-24T12:57:57.826380400Z"
    }
   },
   "id": "779960ef954911c2"
  },
  {
   "cell_type": "code",
   "execution_count": 5,
   "outputs": [],
   "source": [],
   "metadata": {
    "collapsed": false,
    "ExecuteTime": {
     "end_time": "2023-11-24T12:57:57.881195200Z",
     "start_time": "2023-11-24T12:57:57.838338600Z"
    }
   },
   "id": "dfbffcce1b2cabe3"
  }
 ],
 "metadata": {
  "kernelspec": {
   "display_name": "Python 3",
   "language": "python",
   "name": "python3"
  },
  "language_info": {
   "codemirror_mode": {
    "name": "ipython",
    "version": 2
   },
   "file_extension": ".py",
   "mimetype": "text/x-python",
   "name": "python",
   "nbconvert_exporter": "python",
   "pygments_lexer": "ipython2",
   "version": "2.7.6"
  }
 },
 "nbformat": 4,
 "nbformat_minor": 5
}
