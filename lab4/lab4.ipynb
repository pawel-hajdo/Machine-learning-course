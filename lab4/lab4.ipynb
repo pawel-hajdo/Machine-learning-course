{
 "cells": [
  {
   "cell_type": "markdown",
   "source": [
    "#Machine learning - lab4"
   ],
   "metadata": {
    "collapsed": false
   },
   "id": "73a6ae09fd9ccf24"
  },
  {
   "cell_type": "code",
   "execution_count": 6,
   "outputs": [
    {
     "name": "stdout",
     "output_type": "stream",
     "text": [
      "   index                                               text  class\n",
      "0    102      Nieporozumienie roku. Nie wiem, co reżyser...      1\n",
      "1     15  Fascynujący od początku do końca. Nie można pr...      0\n",
      "2     81  Doskonałe tempo narracji. Fabuła rozwija się p...      0\n",
      "3     88       Nuda i brak sensu. Czułem się zawiedziony.\\n      1\n",
      "4    139  Zbyt dużo niepotrzebnych efektów specjalnych. ...      1\n"
     ]
    }
   ],
   "source": [
    "import pandas as pd\n",
    "\n",
    "#Wczytaj dane z plików\n",
    "\n",
    "with open('negative.txt','r',encoding='utf-8') as file:\n",
    "    negative_data = file.readlines()\n",
    "    \n",
    "with open('positive.txt','r',encoding='utf-8') as file:\n",
    "    positive_data = file.readlines()\n",
    "    \n",
    "#Przydziel klasy (0 - positive, 1 - negative)\n",
    "dataFrame_1 = pd.DataFrame({'text': positive_data, 'class': 0})\n",
    "dataFrame_2 = pd.DataFrame({'text': negative_data, 'class': 1})\n",
    "\n",
    "#Połącz ramki danych\n",
    "df = pd.concat([dataFrame_1, dataFrame_2], ignore_index=True)\n",
    "\n",
    "#Zmieszaj dane\n",
    "df = df.sample(frac=1).reset_index()\n",
    "\n",
    "#Show data\n",
    "print(df.head())"
   ],
   "metadata": {
    "collapsed": false,
    "ExecuteTime": {
     "end_time": "2023-11-24T09:59:06.547693700Z",
     "start_time": "2023-11-24T09:59:06.532616700Z"
    }
   },
   "id": "7ff3fcfcef206f37"
  },
  {
   "cell_type": "code",
   "execution_count": 7,
   "outputs": [
    {
     "name": "stdout",
     "output_type": "stream",
     "text": [
      "['20' '80' 'absolutnie' 'adaptacja' 'akcja' 'akcji' 'akcję' 'aktorami'\n",
      " 'aktorska' 'aktorskiego' 'aktorstwo' 'aktorzy' 'aktorów' 'albo' 'ale'\n",
      " 'atmosfera' 'atmosfery' 'atmosferę' 'autentyczności' 'autorowi' 'aż'\n",
      " 'balans' 'banalna' 'bardzo' 'barw' 'bez' 'bezsensowna' 'bliskimi'\n",
      " 'bohaterów' 'brak' 'brakiem' 'brutalności' 'brzmią' 'budowaniu' 'budżet'\n",
      " 'budżetu' 'by' 'być' 'był' 'było' 'były' 'będzie' 'casting' 'cała'\n",
      " 'całość' 'cały' 'celu' 'chaotyczna' 'chaotyczny' 'charaktery'\n",
      " 'charakteryzacja' 'chciał' 'chemia' 'chodzi' 'chodziło' 'chronologię'\n",
      " 'chwil' 'chwile' 'chwili' 'ciekawe' 'ciekawego' 'ciekawy' 'cieszę'\n",
      " 'ciągnie' 'co' 'coś' 'czas' 'czasami' 'czasem' 'czasie' 'czasu' 'czegoś'\n",
      " 'czuję' 'czułem' 'czy' 'czysty' 'częścią' 'daje' 'dalej' 'dialogi' 'do'\n",
      " 'dobrana' 'dobrze' 'dobór' 'dodaje' 'dodają' 'dodatkowego' 'dodatkowej'\n",
      " 'dopasowanie' 'doskonale' 'doskonałe' 'doskonały' 'dość' 'dramatem'\n",
      " 'dramatu' 'dramatyczne' 'dreszczem' 'drugiej' 'duże' 'dużo' 'dynamiczna'\n",
      " 'dynamiki' 'działa' 'działania' 'dziur' 'długi' 'długie' 'długo'\n",
      " 'dźwiękowa' 'efekciarskie' 'efektach' 'efekty' 'efektów' 'ekipa'\n",
      " 'ekranie' 'ekranu' 'element' 'emocje' 'emocji' 'emocjonalnie'\n",
      " 'emocjonujące' 'epilog' 'epoki' 'fabularne' 'fabule' 'fabuła' 'fabuły'\n",
      " 'fabułę' 'fanom' 'fantastyczne' 'fascynujący' 'fenomenalny' 'film'\n",
      " 'filmowi' 'filmu' 'filmów' 'gadania' 'genialna' 'genialne' 'genialny'\n",
      " 'genialną' 'go' 'godny' 'gorszy' 'gotów' 'gra' 'gubi' 'gwarantowane'\n",
      " 'głośna' 'głównej' 'głównych' 'głębi' 'głęboka' 'głębokim' 'głębszego'\n",
      " 'historia' 'historii' 'historię' 'humoru' 'ich' 'idealny' 'inne' 'innego'\n",
      " 'innej' 'innych' 'inteligencji' 'intensywne' 'interesujący' 'intrygujące'\n",
      " 'intrygujący' 'jak' 'jakbym' 'jakbyśmy' 'jakie' 'jakości' 'jasnego'\n",
      " 'jeden' 'jednego' 'jego' 'jest' 'jutro' 'już' 'kadr' 'kalka' 'kamery'\n",
      " 'kapitalna' 'kapitalne' 'kapitalny' 'każda' 'każde' 'każdej' 'każdy'\n",
      " 'każdą' 'kiepski' 'kiepskie' 'kiepsko' 'kilku' 'kinematografii' 'klimat'\n",
      " 'klimatu' 'kolorystyka' 'kolorów' 'komediowe' 'komedią' 'komedię'\n",
      " 'kompletnie' 'kontrastów' 'kostiumów' 'końca' 'końcem' 'krajobrazów'\n",
      " 'krótkie' 'książki' 'ktoś' 'która' 'które' 'którego' 'który' 'lat'\n",
      " 'lepiej' 'lepsze' 'lepszy' 'lepszych' 'logiki' 'los' 'ma' 'magiczny'\n",
      " 'mają' 'malowany' 'malowniczych' 'minutach' 'minuty' 'mistrza'\n",
      " 'mistrzostwo' 'mistrzowskie' 'między' 'miłosna' 'mnie' 'mniej' 'mocne'\n",
      " 'mocno' 'mocny' 'mogłem' 'moich' 'momencie' 'momentu' 'momentów'\n",
      " 'monologi' 'monotonna' 'montaż' 'motyw' 'motywu' 'motywy' 'można'\n",
      " 'muzyczne' 'muzyka' 'muzyki' 'myślałem' 'mógłby' 'męczące' 'męczący' 'na'\n",
      " 'nabiera' 'nachalny' 'naciąganie' 'nad' 'nadaje' 'najgłębsze'\n",
      " 'najlepszych' 'najmniejszego' 'najwyższym' 'napisane' 'napisał'\n",
      " 'napięcia' 'napięciu' 'naprawdę' 'narracji' 'naturalność' 'nic' 'nich'\n",
      " 'nie' 'niebanalny' 'niechlujne' 'nieciekawa' 'nieciekawe' 'nieczytelny'\n",
      " 'niektóre' 'niektórzy' 'nieporozumienie' 'niepotrzebne' 'niepotrzebnie'\n",
      " 'niepotrzebnych' 'nieprzekonujące' 'nieprzewidywalnie' 'nieprzygotowani'\n",
      " 'nierealistyczne' 'niesamowite' 'niesamowity' 'niespodzianek' 'niestety'\n",
      " 'nieudane' 'niewiele' 'niewymuszone' 'niezapomniane' 'niezdarnie'\n",
      " 'niezwykła' 'niezwykłe' 'nijaka' 'nijaki' 'nim' 'nimi' 'niskim' 'niż'\n",
      " 'nowego' 'nuda' 'nudna' 'nudny' 'nudę' 'obejrzany' 'obejrzałem'\n",
      " 'obejrzeniu' 'obejrzeć' 'obietnic' 'obraz' 'obsada' 'oczekiwania'\n",
      " 'oczekiwałem' 'oczekiwań' 'od' 'oddali' 'oddech' 'oderwać' 'odkrycie'\n",
      " 'odpowiednim' 'odwzorowanie' 'oglądanie' 'oglądać' 'ograniczony'\n",
      " 'ogromne' 'ogóle' 'okazał' 'oklepany' 'określa' 'opowiedzianej'\n",
      " 'oryginalne' 'oryginalności' 'oryginału' 'osiągnąć' 'ostatnich' 'paleta'\n",
      " 'pamięci' 'pamięć' 'pasuje' 'pasują' 'patrzeć' 'perfekcyjne' 'pewnym'\n",
      " 'pewnymi' 'pełen' 'pełne' 'pierwszej' 'pierwszych' 'placement' 'plecach'\n",
      " 'po' 'poboczne' 'pobocznych' 'poczucie' 'początek' 'początkowe'\n",
      " 'początku' 'podejście' 'podkreśla' 'podąża' 'polecam' 'polecenia'\n",
      " 'polega' 'polotu' 'pomysł' 'popis' 'porażka' 'porusza' 'poruszać'\n",
      " 'poruszyć' 'porządną' 'postaci' 'postaciami' 'postacie' 'postać'\n",
      " 'potencjału' 'potrafi' 'potrafili' 'potrafią' 'poważnie' 'powodu'\n",
      " 'pozbawione' 'poziom' 'poziomie' 'poziomu' 'pozostawia' 'pozostawił'\n",
      " 'pozytywne' 'połowie' 'połączenie' 'pracowała' 'prawdziwe' 'prawdziwych'\n",
      " 'prezentuje' 'produkcję' 'produkt' 'prolog' 'prowadziła' 'przed'\n",
      " 'przejścia' 'przekaz' 'przemocy' 'przemyślana' 'przemyślany' 'przenieśli'\n",
      " 'przerysowane' 'przesadne' 'przesadnie' 'przesadzone' 'przestać'\n",
      " 'przesłania' 'przesłanie' 'przesłaniem' 'przewidywalna' 'przewidywalne'\n",
      " 'przewidywalny' 'przewidzenia' 'przewidzieć' 'przewodni' 'przewodniego'\n",
      " 'przez' 'przezroczysta' 'przydługi' 'przypadkowych' 'przytłaczają'\n",
      " 'próbują' 'późno' 'pędzlem' 'płaskie' 'płynnie' 'płytki' 'razu' 'razy'\n",
      " 'refleksji' 'relacjach' 'rewelacyjna' 'rewelacyjnie' 'reżyser' 'reżysera'\n",
      " 'reżyseria' 'reżyserii' 'robi' 'roku' 'role' 'roli' 'romantyzmu'\n",
      " 'rozczarowanie' 'rozczarowaniem' 'rozmów' 'rozrywka' 'rozwija'\n",
      " 'rozwiązania' 'rozwlekłe' 'rozśmiesza' 'ról' 'różnorodnością' 'samego'\n",
      " 'satysfakcji' 'scena' 'scenami' 'scenariusz' 'sceny' 'schematami'\n",
      " 'schematyczna' 'seansie' 'sens' 'sensu' 'serce' 'się' 'skomplikowany'\n",
      " 'skonstruowane' 'skłania' 'solidnej' 'soundtrack' 'specjalne'\n",
      " 'specjalnego' 'specjalnych' 'spełnił' 'spodziewałem' 'sposób' 'sprawia'\n",
      " 'spójności' 'spędzenie' 'starannie' 'stracił' 'strata' 'stylu'\n",
      " 'subtelność' 'swoich' 'swoje' 'swoją' 'swój' 'symbolika' 'sytuacji'\n",
      " 'szary' 'szczegółu' 'szkoda' 'sztuczne' 'sztuczny' 'szybki' 'są' 'słabe'\n",
      " 'słabnie' 'słaby' 'słowo' 'słuchał' 'służą' 'tajemniczych' 'taki'\n",
      " 'takiej' 'teaserze' 'tego' 'tematu' 'tematy' 'tempa' 'tempie' 'tempo'\n",
      " 'ten' 'to' 'tonacji' 'tonalnego' 'tonu' 'totalna' 'totalne' 'totalny'\n",
      " 'traci' 'tracić' 'trafiłem' 'treść' 'trudne' 'trudno' 'trwa' 'trzyma'\n",
      " 'trzymają' 'twarze' 'twarzy' 'twórcy' 'ucho' 'uczucia' 'ujęcia' 'układa'\n",
      " 'unikalna' 'urok' 'utartymi' 'utożsamić' 'uwierzenia' 'uwierzyć'\n",
      " 'uśmiechem' 'użycie' 'walki' 'wart' 'warto' 'wartościami' 'ważne'\n",
      " 'wcielili' 'wciąga' 'wciągająca' 'wciągające' 'wciągający' 'wciągnął'\n",
      " 'wiadomo' 'widać' 'widza' 'widziane' 'widział' 'widziałem' 'wieczoru'\n",
      " 'wieczór' 'wiedziałem' 'wiele' 'wielkie' 'wielokrotnie' 'wiem' 'wiernie'\n",
      " 'wizualne' 'wizualnie' 'wizualnych' 'więcej' 'większość' 'wniosły'\n",
      " 'wnosi' 'wnoszą' 'wolny' 'wpada' 'wpasowuje' 'wrażenia' 'wrażenie'\n",
      " 'wspaniała' 'wspaniałe' 'wstawki' 'wstrząsa' 'wstrząsające' 'wszystko'\n",
      " 'wychodzą' 'wydaje' 'wydają' 'wydarzenia' 'wydarzeń' 'wydarzy' 'wygląda'\n",
      " 'wyglądają' 'wyjaśnienia' 'wyjątkowego' 'wyjątkowy' 'wykonanie'\n",
      " 'wykorzystanie' 'wykreowana' 'wymiaru' 'wyrazista' 'wyrazistego'\n",
      " 'wyrazistych' 'wyważenia' 'wyśmienity' 'wzbogaca' 'wzruszająca'\n",
      " 'wzruszający' 'wątkami' 'wątki' 'wątków' 'wątpliwy' 'własnych' 'za'\n",
      " 'zabawne' 'zachowanie' 'zaczyna' 'zadowalającego' 'zagrane' 'zagubiony'\n",
      " 'zainteresować' 'zainteresował' 'zakamarkach' 'zakochani' 'zakończenie'\n",
      " 'zakręcony' 'zapadający' 'zapamiętać' 'zapomnieć' 'zapomnę' 'zaskakujące'\n",
      " 'zaskakujących' 'zaskoczenia' 'zaskoczenie' 'zaskoczeń' 'zaskoczyć'\n",
      " 'zauważalne' 'zawiedziony' 'zbliżenia' 'zbyt' 'zdecydowanie' 'zdjęcia'\n",
      " 'zmarnowani' 'zmienia' 'znaczenie' 'znaczy' 'znakomicie' 'znakomita'\n",
      " 'znakomite' 'znakomity' 'znudzony' 'zorientować' 'zostanie' 'zostawia'\n",
      " 'zrealizowane' 'zrobione' 'zrozumieć' 'zrównoważenia' 'zwroty' 'łez'\n",
      " 'łączy' 'ścieżka' 'ślad' 'śladu' 'światło' 'świetna' 'świetne' 'świetnie'\n",
      " 'świetny' 'świeżości' 'żaden' 'że' 'żenujące']\n",
      "[[0 0 0 ... 0 0 0]\n",
      " [0 0 0 ... 0 0 0]\n",
      " [0 0 0 ... 0 0 0]\n",
      " ...\n",
      " [0 0 0 ... 0 0 0]\n",
      " [0 0 0 ... 0 1 0]\n",
      " [0 0 0 ... 0 0 0]]\n"
     ]
    }
   ],
   "source": [
    "from sklearn.feature_extraction.text import CountVectorizer\n",
    "#Utwórz słownik bag of words\n",
    "\n",
    "vectorizer = CountVectorizer()\n",
    "bow =vectorizer.fit_transform(df['text'])\n",
    "\n",
    "dictionary = vectorizer.get_feature_names_out()\n",
    "print(dictionary)\n",
    "print(bow.toarray())"
   ],
   "metadata": {
    "collapsed": false,
    "ExecuteTime": {
     "end_time": "2023-11-24T09:59:06.613539400Z",
     "start_time": "2023-11-24T09:59:06.546679600Z"
    }
   },
   "id": "4fc5d03487a489c6"
  },
  {
   "cell_type": "code",
   "execution_count": 8,
   "outputs": [
    {
     "name": "stdout",
     "output_type": "stream",
     "text": [
      "{'film': 52, 'brak': 25, 'który': 20, 'fabuła': 19, 'jest': 17, 'trudno': 15, 'zbyt': 14, 'dialogi': 11, 'między': 8, 'efekty': 8, 'narracji': 7, 'postacie': 7, 'aktorzy': 7, 'kiepskie': 7, 'widać': 7, 'trzyma': 7, 'emocje': 7, 'tempo': 6, 'postaci': 6, 'mnie': 6, 'wspaniała': 5, 'muzyka': 5, 'filmu\\n': 5, 'czasu': 5, 'specjalne': 5, 'które': 5, 'zakończenie': 5, 'doskonałe': 4, 'rozwija': 4, 'czułem': 4, 'pełen': 4, 'historii\\n': 4, 'niektóre': 4, 'każdy': 4, 'wszystko': 4, 'albo': 4, 'sensu\\n': 4, 'dobór': 4, 'ujęcia': 4, 'każda': 4, 'akcja': 4, 'kiepsko': 4, 'historia': 4, 'absolutnie': 4, 'napięciu': 4, 'długo': 4, 'drugiej': 4, 'sceny': 4, 'wiele': 4, 'ścieżka': 4, 'dźwiękowa': 4, 'uwierzyć': 4, 'robi': 4, 'przesadzone': 3, 'bardzo': 3, 'kiepski': 3, 'najwyższym': 3, 'aktorów': 3, 'kapitalne': 3, 'montaż': 3, 'świetna': 3, 'głębi': 3, 'filmów': 3, 'przez': 3, 'nudna': 3, 'przewidywalna': 3, 'wiedziałem': 3, 'wydarzy': 3, 'kapitalny': 3, 'dramatem': 3, 'spójności': 3, 'zainteresował': 3, 'cieszę': 3, 'zrealizowane': 3, 'akcji': 3, 'filmowi': 3, 'zrozumieć': 3, 'chemia': 3, 'aktorstwo': 3, 'klimat': 3, 'film\\n': 3, 'wizualne': 3, 'naprawdę': 3, 'znakomicie': 3, 'tego': 3, 'czasami': 3, 'oddali': 3, 'momentów': 3, 'więcej\\n': 3, 'roku': 2, 'można': 2, 'przestać': 2, 'płynnie': 2, 'nieprzewidywalnie\\n': 2, 'sensu': 2, 'dużo': 2, 'efektów': 2, 'specjalnych': 2, 'motywy': 2, 'wnosi': 2, 'casting': 2, 'pasują': 2, 'reżyseria': 2, 'charakteryzacja': 2, 'poziomie': 2, 'doskonale\\n': 2, 'szybki': 2, 'wolny\\n': 2, 'intensywne': 2, 'przesłania': 2, 'swoich': 2, 'nieciekawe': 2, 'nimi': 2, 'utożsamić\\n': 2, 'kamery': 2, 'scena': 2, 'świetne': 2, 'wyrazistych': 2, 'bohaterów': 2, 'płaskie': 2, 'nieciekawe\\n': 2, 'pasuje': 2, 'pełne': 2, 'znakomita': 2, 'aktorska': 2, 'scenariusz': 2, 'jeden': 2, 'widziałem': 2, 'każde': 2, 'słowo': 2, 'cały': 2, 'ciągnie': 2, 'słabnie': 2, 'połowie\\n': 2, 'zostawia': 2, 'ślad': 2, 'obejrzeniu': 2, 'zapomnieć': 2, 'przed': 2, 'końcem\\n': 2, 'balans': 2, 'komedią': 2, 'wciąga': 2, 'która': 2, 'jednego': 2, 'tonu\\n': 2, 'mogłem': 2, 'ogóle': 2, 'szkoda': 2, 'jego': 2, 'oglądanie\\n': 2, 'wciągający': 2, 'przesadne': 2, 'niestety': 2, 'swój': 2, 'minutach\\n': 2, 'porusza': 2, 'wstrząsające': 2, 'mocne': 2, 'skłania': 2, 'wykonanie': 2, 'przemyślana': 2, 'sposób\\n': 2, 'banalna': 2, 'jakbym': 2, 'fabule': 2, 'polecam\\n': 2, 'spodziewałem': 2, 'totalna': 2, 'pierwszej': 2, 'monotonna': 2, 'słabe': 2, 'fabuły\\n': 2, 'chodzi\\n': 2, 'perfekcyjne': 2, 'nich': 2, 'przewidywalny': 2, 'ciekawe': 2, 'poziomie\\n': 2, 'wizualnie': 2, 'prezentuje': 2, 'wyjątkowy': 2, 'było': 2, 'budżetu': 2, 'porządną': 2, 'produkcję\\n': 2, 'dobrze': 2, 'sztuczne': 2, 'efekciarskie': 2, 'traci': 2, 'połowie': 2, 'kapitalna': 2, 'żenujące': 2, 'ktoś': 2, 'napisał': 2, 'poważnie\\n': 2, 'dynamiczna': 2, 'chwili': 2, 'nudę\\n': 2, 'dodają': 2, 'swoje': 2, 'znaczenie\\n': 2, 'aktorami': 2, 'działa\\n': 2, 'wrażenie\\n': 2, 'postaci\\n': 2, 'sprawia': 2, 'wielkie': 2, 'rozczarowanie': 2, 'myślałem': 2, 'będzie': 2, 'lepiej\\n': 2, 'zdecydowanie': 2, 'warto': 2, 'humoru': 2, 'wygląda': 2, 'duże': 2, 'spełnił': 2, 'twórcy': 2, 'wyrazistego': 2, 'zaskakujących': 2, 'cała': 2, 'przewidzenia\\n': 2, 'wątków': 2, 'mniej': 2, 'znaczy': 2, 'motyw': 2, 'nieporozumienie': 1, 'wiem': 1, 'reżyser': 1, 'chciał': 1, 'osiągnąć\\n': 1, 'fascynujący': 1, 'początku': 1, 'końca': 1, 'oglądać\\n': 1, 'nuda': 1, 'zawiedziony\\n': 1, 'niepotrzebnych': 1, 'męczące\\n': 1, 'wielokrotnie': 1, 'widziane': 1, 'nowego': 1, 'kinematografii\\n': 1, 'intrygujący': 1, 'niespodzianek': 1, 'polecam': 1, 'fanom': 1, 'tajemniczych': 1, 'kompletnie': 1, 'roli\\n': 1, 'kadr': 1, 'starannie': 1, 'przemyślany\\n': 1, 'wcielili': 1, 'role': 1, 'przesadnie': 1, 'dramatyczne': 1, 'przerysowane\\n': 1, 'pozostawił': 1, 'dreszczem': 1, 'plecach': 1, 'wrażenia\\n': 1, 'jasnego': 1, 'celu': 1, 'ról\\n': 1, 'przydługi': 1, 'prolog': 1, 'zaczyna': 1, 'późno': 1, 'zainteresować\\n': 1, 'obraz': 1, 'malowany': 1, 'pędzlem': 1, 'mistrza\\n': 1, 'odpowiednim': 1, 'tempie\\n': 1, 'przejścia': 1, 'scenami': 1, 'niezdarnie': 1, 'zrobione\\n': 1, 'dobrana': 1, 'atmosfery': 1, 'wzruszająca': 1, 'miłosna': 1, 'niezapomniane': 1, 'chwile': 1, 'romantyzmu\\n': 1, 'obsada': 1, 'godny': 1, 'polecenia\\n': 1, 'płytki': 1, 'relacjach': 1, 'postaciami\\n': 1, 'wykorzystanie': 1, 'potencjału': 1, 'aktorskiego': 1, 'niektórzy': 1, 'zmarnowani\\n': 1, 'najlepszych': 1, 'jakie': 1, 'genialny\\n': 1, 'znaczenie': 1, 'fabule\\n': 1, 'czas\\n': 1, 'ostatnich': 1, 'chwil': 1, 'intensywne\\n': 1, 'różnorodnością': 1, 'tonacji\\n': 1, 'gubi': 1, 'własnych': 1, 'zakamarkach\\n': 1, 'mistrzostwo': 1, 'budowaniu': 1, 'napięcia': 1, 'patrzeć\\n': 1, 'oddech': 1, 'świeżości': 1, 'kinematografii': 1, 'nowego\\n': 1, 'naciąganie': 1, 'fabuły': 1, 'wydarzenia': 1, 'trudne': 1, 'uwierzenia\\n': 1, 'stracił': 1, 'urok': 1, 'pierwszych': 1, 'wydają': 1, 'nieprzygotowani': 1, 'muzyki': 1, 'dodaje': 1, 'dodatkowej': 1, 'głębi\\n': 1, 'użycie': 1, 'wydaje': 1, 'sztuczny\\n': 1, 'zaskakujące': 1, 'zwroty': 1, 'samego': 1, 'końca\\n': 1, 'serce': 1, 'prawdziwe\\n': 1, 'mógłby': 1, 'lepszy': 1, 'emocji\\n': 1, 'wciągająca': 1, 'przewidzieć': 1, 'dalej\\n': 1, 'nieudane': 1, 'budżet': 1, 'ograniczony\\n': 1, 'potrafi': 1, 'poruszyć': 1, 'najgłębsze': 1, 'uczucia\\n': 1, 'niepotrzebnie': 1, 'skomplikowany': 1, 'autorowi': 1, 'chodziło\\n': 1, 'przesłanie': 1, 'głęboka': 1, 'treść': 1, 'refleksji\\n': 1, 'mistrzowskie': 1, 'najmniejszego': 1, 'szczegółu\\n': 1, 'totalny': 1, 'klimatu': 1, 'wciągnął': 1, 'żaden': 1, 'widział\\n': 1, 'fenomenalny': 1, 'soundtrack': 1, 'doskonale': 1, 'wpasowuje': 1, 'atmosferę': 1, 'niezwykłe': 1, 'zdjęcia': 1, 'malowniczych': 1, 'krajobrazów\\n': 1, 'dziur': 1, 'niezwykła': 1, 'postaciami': 1, 'łączy': 1, 'zauważalne\\n': 1, 'wstrząsa': 1, 'emocjonalnie': 1, 'obejrzeniu\\n': 1, 'zawiedziony': 1, 'brakiem': 1, 'zaskoczenia': 1, 'przewidywalna\\n': 1, 'walki': 1, 'potrafią': 1, 'poruszać\\n': 1, 'niebanalny': 1, 'pomysł': 1, 'fabułę': 1, 'oryginalne': 1, 'podejście': 1, 'tematu\\n': 1, 'odkrycie': 1, 'takiej': 1, 'jakości\\n': 1, 'strata': 1, 'nijaka': 1, 'aktorstwo\\n': 1, 'minuty': 1, 'oderwać\\n': 1, 'znakomity': 1, 'sposób': 1, 'spędzenie': 1, 'wieczoru': 1, 'obejrzałem\\n': 1, 'przezroczysta': 1, 'schematyczna': 1, 'przewidywalne\\n': 1, 'nieciekawa': 1, 'znudzony': 1, 'kilku': 1, 'zapamiętać': 1, 'wniosły': 1, 'trzymają': 1, 'poziomu': 1, 'czasem': 1, 'mocno': 1, 'polega': 1, 'efektach': 1, 'wizualnych': 1, 'solidnej': 1, 'tonacji': 1, 'filmu': 1, 'zmienia': 1, 'dramatu': 1, 'komedię': 1, 'powodu\\n': 1, 'dopasowanie': 1, 'zakochani\\n': 1, 'zrównoważenia': 1, 'wątkami': 1, 'rozwlekłe': 1, 'inne': 1, 'krótkie\\n': 1, 'męczący': 1, 'ciekawego\\n': 1, 'muzyczne': 1, 'każdej': 1, 'sceny\\n': 1, 'niesamowity': 1, 'chaotyczny': 1, 'chronologię': 1, 'wydarzeń\\n': 1, 'wyważenia': 1, 'tonalnego': 1, 'określa': 1, 'komedią\\n': 1, 'wspaniałe': 1, 'wyjątkowego': 1, 'zapomnieć\\n': 1, 'wydarzy\\n': 1, 'zakręcony': 1, 'nieczytelny': 1, 'porażka\\n': 1, 'znakomicie\\n': 1, 'trafiłem': 1, 'rozrywka': 1, 'oderwać': 1, 'ekranu': 1, 'niepotrzebne': 1, 'wstawki': 1, 'komediowe': 1, 'próbują': 1, 'zabawne': 1, 'wychodzą': 1, 'kiepsko\\n': 1, 'nachalny': 1, 'produkt': 1, 'placement': 1, 'naturalność': 1, 'sytuacji\\n': 1, 'początek': 1, 'razu': 1, 'głównych': 1, 'bohaterów\\n': 1, 'doskonały': 1, 'genialne': 1, 'wyrazista': 1, 'postać': 1, 'unikalna': 1, 'wykreowana\\n': 1, 'niskim': 1, 'nierealistyczne\\n': 1, 'służą': 1, 'czysty': 1, 'popis': 1, 'reżysera\\n': 1, 'sens': 1, 'chaotyczna\\n': 1, 'daje': 1, 'klimat\\n': 1, 'wciągające': 1, 'wątki': 1, 'poboczne': 1, 'głównej': 1, 'inteligencji': 1, 'mocny': 1, 'przekaz': 1, 'refleksji': 1, 'pewnymi': 1, 'wartościami\\n': 1, 'nieprzekonujące': 1, 'satysfakcji': 1, 'seansie\\n': 1, 'męczące': 1, 'monologi': 1, 'gadania': 1, 'fantastyczne': 1, 'ogromne': 1, 'skonstruowane': 1, 'całość': 1, 'układa': 1, 'genialną': 1, 'całość\\n': 1, 'emocjonujące': 1, 'prowadziła': 1, 'momentu': 1, 'napisane': 1, 'zachowanie': 1, 'atmosfera': 1, 'czuję': 1, 'częścią': 1, 'opowiedzianej': 1, 'pozytywne': 1, 'zaskoczenie': 1, 'zrealizowane\\n': 1, 'okazał': 1, 'rozczarowaniem': 1, 'większość': 1, 'wiadomo': 1, 'chodzi': 1, 'zagubiony': 1, 'scenariusz\\n': 1, 'genialna': 1, 'podkreśla': 1, 'długi': 1, 'epilog': 1, 'trwa': 1, 'długo\\n': 1, 'tracić': 1, 'magiczny': 1, 'idealny': 1, 'wieczór': 1, 'bliskimi\\n': 1, 'wątpliwy': 1, 'kostiumów': 1, 'wyglądają': 1, 'innej': 1, 'epoki\\n': 1, 'wzruszający': 1, 'obejrzeć\\n': 1, 'tempa': 1, 'pewnym': 1, 'momencie': 1, 'nudny\\n': 1, 'zapomnę': 1, 'jutro': 1, 'specjalnego\\n': 1, 'symbolika': 1, 'element': 1, 'wyśmienity': 1, 'świetnie': 1, 'charaktery': 1, 'wzbogaca': 1, 'odwzorowanie': 1, 'epoki': 1, 'jakbyśmy': 1, 'przenieśli': 1, 'czasie\\n': 1, 'słaby': 1, 'kolorów': 1, 'paleta': 1, 'barw': 1, 'oczekiwania': 1, 'teaserze': 1, 'obietnic\\n': 1, 'dość': 1, 'nudny': 1, 'zaskoczeń\\n': 1, 'rozśmiesza': 1, 'poczucie': 1, 'humoru\\n': 1, 'zapadający': 1, 'pamięć': 1, 'reżyseria\\n': 1, 'rozwiązania': 1, 'fabularne': 1, 'potrafili': 1, 'zaskoczyć\\n': 1, 'głębszego': 1, 'pozostawia': 1, 'śladu': 1, 'pamięci\\n': 1, 'wnoszą': 1, 'wyjątkowego\\n': 1, 'niesamowite': 1, 'lepszych': 1, 'roku\\n': 1, 'motywu': 1, 'przewodniego': 1, 'wpada': 1, 'ucho\\n': 1, 'znakomite': 1, 'światło': 1, 'kolorystyka': 1, 'rewelacyjnie\\n': 1, 'zostanie': 1, 'pamięci': 1, 'gwarantowane\\n': 1, 'niewiele': 1, 'wart': 1, 'lepiej': 1, 'obejrzeć': 1, 'innego\\n': 1, 'nabiera': 1, 'dynamiki\\n': 1, 'polotu': 1, 'oryginalności': 1, 'podąża': 1, 'utartymi': 1, 'schematami\\n': 1, 'gorszy': 1, 'totalne': 1, 'nieporozumienie\\n': 1, 'adaptacja': 1, 'książki': 1, 'wiernie': 1, 'oryginału\\n': 1, 'przemocy': 1, 'gotów': 1, 'taki': 1, 'poziom': 1, 'brutalności\\n': 1, 'zagrane': 1, 'ekranie': 1, 'każdą': 1, 'subtelność\\n': 1, 'początkowe': 1, 'wrażenia': 1, 'były': 1, 'lepsze\\n': 1, 'ekipa': 1, 'pracowała': 1, 'przypadkowych': 1, 'mają': 1, 'głośna': 1, 'akcję\\n': 1, 'ciekawy': 1, 'przewodni': 1, 'nadaje': 1, 'dodatkowego': 1, 'wymiaru\\n': 1, 'niewymuszone': 1, 'słuchał': 1, 'prawdziwych': 1, 'rozmów\\n': 1, 'bezsensowna': 1, 'wykonanie\\n': 1, 'oklepany': 1, 'którego': 1, 'razy': 1, 'świeżości\\n': 1, 'świetny': 1, 'obejrzany': 1, 'uśmiechem': 1, 'twarzy\\n': 1, 'stylu': 1, 'reżyserii': 1, 'szary': 1, 'nijaki\\n': 1, 'zaskoczenia\\n': 1, 'długie': 1, 'zbliżenia': 1, 'twarze': 1, 'przytłaczają': 1, 'widza\\n': 1, 'moich': 1, 'oczekiwań': 1, 'oczekiwałem': 1, 'czegoś': 1, 'intrygujące': 1, 'swoją': 1, 'historię': 1, 'interesujący': 1, 'połączenie': 1, 'głębokim': 1, 'przesłaniem': 1, 'kontrastów\\n': 1, 'niechlujne': 1, 'zadowalającego': 1, 'wyjaśnienia': 1, 'wątków\\n': 1, 'minuty\\n': 1, 'rewelacyjna': 1, 'ważne': 1, 'tematy\\n': 1, 'pobocznych': 1, 'zorientować': 1, 'nierealistyczne': 1, 'działania': 1, 'pozbawione': 1, 'logiki\\n': 1, 'brzmią': 1, 'kalka': 1, 'innych': 1, 'autentyczności\\n': 1}\n"
     ]
    }
   ],
   "source": [
    "import re\n",
    "def preprocess_text(text):\n",
    "    #Usunięcie znaków interpunkcyjnych i zamiana na małe litery\n",
    "    text = re.sub(r'[^\\w\\s]', '', text.lower())\n",
    "    tokens = text.split(' ')\n",
    "    \n",
    "    min_word_length = 4\n",
    "    tokens = [token for token in tokens if token and len(token) >= min_word_length]\n",
    "    return tokens\n",
    "\n",
    "word_counts_all = {}\n",
    "#najczęsciej występujące słowa dla całego zbioru\n",
    "for row in df['text']:\n",
    "    tokens = preprocess_text(row)\n",
    "    for token in tokens:\n",
    "        if token in word_counts_all:\n",
    "            word_counts_all[token] += 1\n",
    "        else:\n",
    "            word_counts_all[token] = 1\n",
    "            \n",
    "print(dict(sorted(word_counts_all.items(), key=lambda x:x[1], reverse=True)))"
   ],
   "metadata": {
    "collapsed": false,
    "ExecuteTime": {
     "end_time": "2023-11-24T09:59:06.613539400Z",
     "start_time": "2023-11-24T09:59:06.576616100Z"
    }
   },
   "id": "583403674097e6dc"
  },
  {
   "cell_type": "code",
   "execution_count": 9,
   "outputs": [
    {
     "name": "stdout",
     "output_type": "stream",
     "text": [
      "{'film': 24, 'który': 9, 'fabuła': 7, 'emocje': 7, 'jest': 7, 'wspaniała': 5, 'między': 5, 'pełen': 4, 'każda': 4, 'doskonałe': 4, 'tempo': 4, 'akcja': 4, 'trzyma': 4, 'napięciu': 4, 'rozwija': 4, 'aktorzy': 4, 'trudno': 4, 'najwyższym': 3, 'zakończenie': 3, 'bardzo': 3, 'naprawdę': 3, 'efekty': 3, 'świetna': 3, 'absolutnie': 3, 'cieszę': 3, 'historii\\n': 3, 'tego': 3, 'narracji': 3, 'kapitalny': 3, 'znakomicie': 3, 'filmowi': 3, 'filmu\\n': 3, 'dialogi': 3, 'oddali': 3, 'każdy': 3, 'kapitalne': 3, 'chemia': 3, 'mnie': 3, 'aktorstwo': 2, 'wszystko': 2, 'poziomie\\n': 2, 'mogłem': 2, 'przez': 2, 'cały': 2, 'film\\n': 2, 'humoru': 2, 'specjalne': 2, 'robi': 2, 'wrażenie\\n': 2, 'znakomita': 2, 'aktorska': 2, 'jeden': 2, 'filmów': 2, 'długo': 2, 'dobrze': 2, 'historia': 2, 'porusza': 2, 'wyjątkowy': 2, 'klimat': 2, 'muzyka': 2, 'scena': 2, 'przemyślana': 2, 'można': 2, 'przestać': 2, 'mocne': 2, 'skłania': 2, 'świetne': 2, 'sprawia': 2, 'perfekcyjne': 2, 'aktorów': 2, 'widać': 2, 'akcji': 2, 'wciąga': 2, 'pierwszej': 2, 'charakteryzacja': 2, 'postaci': 2, 'kapitalna': 2, 'reżyseria': 2, 'ujęcia': 2, 'kamery': 2, 'wizualnie': 2, 'prezentuje': 2, 'wciągający': 2, 'intensywne': 2, 'płynnie': 2, 'nieprzewidywalnie\\n': 2, 'doskonale\\n': 2, 'pełne': 2, 'balans': 2, 'dramatem': 2, 'komedią': 2, 'ścieżka': 2, 'dźwiękowa': 2, 'swoje': 2, 'znaczenie\\n': 2, 'dynamiczna': 2, 'chwili': 2, 'nudę\\n': 2, 'każde': 2, 'słowo': 2, 'aktorami': 2, 'działa\\n': 2, 'zostawia': 2, 'ślad': 2, 'obejrzeniu': 2, 'ciekawe': 2, 'twórcy': 2, 'zapomnieć': 2, 'niesamowity': 1, 'rozrywka': 1, 'oderwać': 1, 'ekranu': 1, 'doskonały': 1, 'scenariusz': 1, 'genialne': 1, 'polecam\\n': 1, 'wzruszający': 1, 'warto': 1, 'obejrzeć\\n': 1, 'fantastyczne': 1, 'ogromne': 1, 'obsada': 1, 'godny': 1, 'polecenia\\n': 1, 'najlepszych': 1, 'jakie': 1, 'widziałem': 1, 'genialny\\n': 1, 'zostanie': 1, 'pamięci': 1, 'gwarantowane\\n': 1, 'znakomity': 1, 'sposób': 1, 'spędzenie': 1, 'wieczoru': 1, 'obejrzałem\\n': 1, 'pozytywne': 1, 'zaskoczenie': 1, 'zrealizowane\\n': 1, 'rewelacyjna': 1, 'ważne': 1, 'tematy\\n': 1, 'trafiłem': 1, 'mistrzowskie': 1, 'wykonanie': 1, 'najmniejszego': 1, 'szczegółu\\n': 1, 'odkrycie': 1, 'roku': 1, 'spodziewałem': 1, 'takiej': 1, 'jakości\\n': 1, 'rozśmiesza': 1, 'poczucie': 1, 'humoru\\n': 1, 'fascynujący': 1, 'początku': 1, 'końca': 1, 'oglądać\\n': 1, 'intrygujący': 1, 'niespodzianek': 1, 'polecam': 1, 'fanom': 1, 'tajemniczych': 1, 'magiczny': 1, 'idealny': 1, 'wieczór': 1, 'bliskimi\\n': 1, 'zapadający': 1, 'pamięć': 1, 'reżyseria\\n': 1, 'zdecydowanie': 1, 'lepszych': 1, 'roku\\n': 1, 'przesłanie': 1, 'głęboka': 1, 'treść': 1, 'refleksji\\n': 1, 'czas\\n': 1, 'montaż': 1, 'nabiera': 1, 'dynamiki\\n': 1, 'niebanalny': 1, 'pomysł': 1, 'fabułę': 1, 'oryginalne': 1, 'podejście': 1, 'tematu\\n': 1, 'dopasowanie': 1, 'nich': 1, 'zakochani\\n': 1, 'zrealizowane': 1, 'sceny': 1, 'minuty\\n': 1, 'wyrazista': 1, 'postać': 1, 'unikalna': 1, 'wykreowana\\n': 1, 'daje': 1, 'klimat\\n': 1, 'znakomicie\\n': 1, 'oddech': 1, 'świeżości': 1, 'kinematografii': 1, 'nowego\\n': 1, 'fenomenalny': 1, 'soundtrack': 1, 'doskonale': 1, 'wpasowuje': 1, 'atmosferę': 1, 'niewymuszone': 1, 'czułem': 1, 'jakbym': 1, 'słuchał': 1, 'prawdziwych': 1, 'rozmów\\n': 1, 'serce': 1, 'prawdziwe\\n': 1, 'poziomie': 1, 'wcielili': 1, 'role': 1, 'wzruszająca': 1, 'miłosna': 1, 'niezapomniane': 1, 'chwile': 1, 'romantyzmu\\n': 1, 'różnorodnością': 1, 'tonacji\\n': 1, 'odwzorowanie': 1, 'epoki': 1, 'wygląda': 1, 'jakbyśmy': 1, 'przenieśli': 1, 'czasie\\n': 1, 'połączenie': 1, 'głębokim': 1, 'przesłaniem': 1, 'kontrastów\\n': 1, 'wyśmienity': 1, 'casting': 1, 'świetnie': 1, 'charaktery': 1, 'postaci\\n': 1, 'wciągająca': 1, 'przewidzieć': 1, 'wydarzy': 1, 'dalej\\n': 1, 'wspaniałe': 1, 'wnosi': 1, 'wyjątkowego': 1, 'skonstruowane': 1, 'całość': 1, 'układa': 1, 'genialną': 1, 'całość\\n': 1, 'intrygujące': 1, 'postacie': 1, 'swoją': 1, 'historię': 1, 'interesujący': 1, 'sposób\\n': 1, 'genialna': 1, 'podkreśla': 1, 'symbolika': 1, 'element': 1, 'wstrząsające': 1, 'potrafi': 1, 'poruszyć': 1, 'najgłębsze': 1, 'uczucia\\n': 1, 'niezwykłe': 1, 'zdjęcia': 1, 'malowniczych': 1, 'krajobrazów\\n': 1, 'znaczenie': 1, 'fabule\\n': 1, 'mistrzostwo': 1, 'budowaniu': 1, 'napięcia': 1, 'patrzeć\\n': 1, 'zaskakujące': 1, 'zwroty': 1, 'samego': 1, 'końca\\n': 1, 'zapomnieć\\n': 1, 'odpowiednim': 1, 'tempie\\n': 1, 'ciekawy': 1, 'motyw': 1, 'przewodni': 1, 'nadaje': 1, 'dodatkowego': 1, 'wymiaru\\n': 1, 'ostatnich': 1, 'chwil': 1, 'intensywne\\n': 1, 'znakomite': 1, 'światło': 1, 'kolorystyka': 1, 'rewelacyjnie\\n': 1, 'wciągające': 1, 'wątki': 1, 'poboczne': 1, 'dodają': 1, 'głębi': 1, 'głównej': 1, 'wizualne': 1, 'ekipa': 1, 'pracowała': 1, 'motywy': 1, 'muzyczne': 1, 'pasuje': 1, 'każdej': 1, 'sceny\\n': 1, 'świetny': 1, 'obejrzany': 1, 'uśmiechem': 1, 'twarzy\\n': 1, 'emocjonujące': 1, 'prowadziła': 1, 'momentu': 1, 'mocny': 1, 'przekaz': 1, 'refleksji': 1, 'pewnymi': 1, 'wartościami\\n': 1, 'zagrane': 1, 'ekranie': 1, 'każdą': 1, 'subtelność\\n': 1, 'początek': 1, 'razu': 1, 'zainteresował': 1, 'głównych': 1, 'bohaterów\\n': 1, 'obraz': 1, 'malowany': 1, 'pędzlem': 1, 'mistrza\\n': 1, 'rozwiązania': 1, 'fabularne': 1, 'potrafili': 1, 'zaskoczyć\\n': 1, 'pozostawił': 1, 'dreszczem': 1, 'plecach': 1, 'wrażenia\\n': 1, 'atmosfera': 1, 'czuję': 1, 'częścią': 1, 'opowiedzianej': 1, 'niezwykła': 1, 'postaciami': 1, 'łączy': 1, 'zauważalne\\n': 1, 'dobór': 1, 'muzyki': 1, 'dodaje': 1, 'dodatkowej': 1, 'głębi\\n': 1, 'minuty': 1, 'oderwać\\n': 1, 'inteligencji': 1, 'niesamowite': 1, 'duże': 1, 'która': 1, 'wiedziałem': 1, 'wydarzy\\n': 1, 'adaptacja': 1, 'książki': 1, 'wiernie': 1, 'oryginału\\n': 1, 'kadr': 1, 'starannie': 1, 'przemyślany\\n': 1, 'wnoszą': 1, 'swoich': 1, 'wyjątkowego\\n': 1, 'wstrząsa': 1, 'emocjonalnie': 1, 'obejrzeniu\\n': 1}\n"
     ]
    }
   ],
   "source": [
    "#Najczęściej występujące słowa dla zbioru positive\n",
    "\n",
    "word_counts_positive = {}\n",
    "for row in dataFrame_1['text']:\n",
    "    tokens = preprocess_text(row)\n",
    "    for token in tokens:\n",
    "        if token in word_counts_positive:\n",
    "            word_counts_positive[token] += 1\n",
    "        else:\n",
    "            word_counts_positive[token] = 1\n",
    "\n",
    "print(dict(sorted(word_counts_positive.items(), key=lambda x:x[1], reverse=True)))"
   ],
   "metadata": {
    "collapsed": false,
    "ExecuteTime": {
     "end_time": "2023-11-24T09:59:06.613539400Z",
     "start_time": "2023-11-24T09:59:06.595574900Z"
    }
   },
   "id": "999bff8e417c7a9f"
  },
  {
   "cell_type": "code",
   "execution_count": 10,
   "outputs": [
    {
     "name": "stdout",
     "output_type": "stream",
     "text": [
      "{'film': 28, 'brak': 25, 'zbyt': 14, 'fabuła': 12, 'trudno': 11, 'który': 11, 'jest': 10, 'dialogi': 8, 'kiepskie': 7, 'postacie': 6, 'czasu': 5, 'widać': 5, 'efekty': 5, 'które': 5, 'sensu\\n': 4, 'wiele': 4, 'kiepsko': 4, 'uwierzyć': 4, 'narracji': 4, 'drugiej': 4, 'postaci': 4, 'albo': 4, 'niektóre': 4, 'czułem': 3, 'zrozumieć': 3, 'kiepski': 3, 'dobór': 3, 'mnie': 3, 'specjalne': 3, 'czasami': 3, 'między': 3, 'więcej\\n': 3, 'przesadzone': 3, 'spójności': 3, 'trzyma': 3, 'nudna': 3, 'przewidywalna': 3, 'momentów': 3, 'muzyka': 3, 'sceny': 3, 'aktorzy': 3, 'totalna': 2, 'słabe': 2, 'fabule': 2, 'przewidywalny': 2, 'sensu': 2, 'historia': 2, 'pasują': 2, 'banalna': 2, 'głębi': 2, 'monotonna': 2, 'minutach\\n': 2, 'niestety': 2, 'spełnił': 2, 'montaż': 2, 'wątków': 2, 'chodzi\\n': 2, 'mniej': 2, 'znaczy': 2, 'jednego': 2, 'tonu\\n': 2, 'wiedziałem': 2, 'wydarzy': 2, 'przed': 2, 'końcem\\n': 2, 'wizualne': 2, 'było': 2, 'budżetu': 2, 'porządną': 2, 'produkcję\\n': 2, 'długo': 2, 'ciągnie': 2, 'słabnie': 2, 'połowie\\n': 2, 'zaskakujących': 2, 'cała': 2, 'przewidzenia\\n': 2, 'żenujące': 2, 'ktoś': 2, 'napisał': 2, 'poważnie\\n': 2, 'nieciekawe': 2, 'nimi': 2, 'utożsamić\\n': 2, 'wielkie': 2, 'rozczarowanie': 2, 'myślałem': 2, 'będzie': 2, 'lepiej\\n': 2, 'tempo': 2, 'szybki': 2, 'wolny\\n': 2, 'wyrazistych': 2, 'bohaterów': 2, 'płaskie': 2, 'nieciekawe\\n': 2, 'ogóle': 2, 'zainteresował': 2, 'szkoda': 2, 'jego': 2, 'oglądanie\\n': 2, 'ścieżka': 2, 'dźwiękowa': 2, 'filmu\\n': 2, 'wszystko': 2, 'traci': 2, 'połowie': 2, 'robi': 2, 'dużo': 2, 'efektów': 2, 'specjalnych': 2, 'zrealizowane': 2, 'zakończenie': 2, 'swój': 2, 'efekciarskie': 2, 'ujęcia': 2, 'fabuły\\n': 2, 'wyrazistego': 2, 'sztuczne': 2, 'przesadne': 2, 'przesłania': 2, 'strata': 1, 'nijaka': 1, 'aktorstwo\\n': 1, 'okazał': 1, 'rozczarowaniem': 1, 'wykonanie': 1, 'dziur': 1, 'absolutnie': 1, 'polecam\\n': 1, 'męczący': 1, 'ciekawego\\n': 1, 'nuda': 1, 'zawiedziony\\n': 1, 'gorszy': 1, 'spodziewałem': 1, 'totalne': 1, 'nieporozumienie\\n': 1, 'bezsensowna': 1, 'wykonanie\\n': 1, 'niewiele': 1, 'wart': 1, 'lepiej': 1, 'obejrzeć': 1, 'innego\\n': 1, 'przez': 1, 'większość': 1, 'wiadomo': 1, 'chodzi': 1, 'zagubiony': 1, 'scenariusz\\n': 1, 'zakręcony': 1, 'nieczytelny': 1, 'porażka\\n': 1, 'niepotrzebnie': 1, 'skomplikowany': 1, 'autorowi': 1, 'chodziło\\n': 1, 'aktorów': 1, 'swoich': 1, 'ról\\n': 1, 'jakbym': 1, 'widział\\n': 1, 'mógłby': 1, 'lepszy': 1, 'emocji\\n': 1, 'totalny': 1, 'klimatu': 1, 'wciągnął': 1, 'żaden': 1, 'sposób\\n': 1, 'nieudane': 1, 'budżet': 1, 'ograniczony\\n': 1, 'dość': 1, 'nudny': 1, 'zaskoczeń\\n': 1, 'napisane': 1, 'zachowanie': 1, 'postaci\\n': 1, 'nieporozumienie': 1, 'roku': 1, 'wiem': 1, 'reżyser': 1, 'chciał': 1, 'osiągnąć\\n': 1, 'warto': 1, 'tracić': 1, 'film\\n': 1, 'nieciekawa': 1, 'znudzony': 1, 'kilku': 1, 'płytki': 1, 'scenariusz': 1, 'relacjach': 1, 'postaciami\\n': 1, 'moich': 1, 'oczekiwań': 1, 'oczekiwałem': 1, 'czegoś': 1, 'przejścia': 1, 'scenami': 1, 'niezdarnie': 1, 'zrobione\\n': 1, 'zapomnę': 1, 'jutro': 1, 'specjalnego\\n': 1, 'polotu': 1, 'oryginalności': 1, 'podąża': 1, 'utartymi': 1, 'schematami\\n': 1, 'oklepany': 1, 'motyw': 1, 'którego': 1, 'razy': 1, 'widziałem': 1, 'świeżości\\n': 1, 'pobocznych': 1, 'zorientować': 1, 'wzbogaca': 1, 'przesadnie': 1, 'dramatyczne': 1, 'przerysowane\\n': 1, 'sens': 1, 'chaotyczna\\n': 1, 'niepotrzebnych': 1, 'męczące\\n': 1, 'walki': 1, 'potrafią': 1, 'poruszać\\n': 1, 'mocno': 1, 'polega': 1, 'efektach': 1, 'wizualnych': 1, 'solidnej': 1, 'historii\\n': 1, 'męczące': 1, 'monologi': 1, 'gadania': 1, 'niechlujne': 1, 'zadowalającego': 1, 'wyjaśnienia': 1, 'wątków\\n': 1, 'przydługi': 1, 'prolog': 1, 'zaczyna': 1, 'późno': 1, 'zainteresować\\n': 1, 'niepotrzebne': 1, 'wstawki': 1, 'komediowe': 1, 'próbują': 1, 'zabawne': 1, 'wychodzą': 1, 'kiepsko\\n': 1, 'głębszego': 1, 'pozostawia': 1, 'śladu': 1, 'pamięci\\n': 1, 'stracił': 1, 'urok': 1, 'pierwszych': 1, 'dodają': 1, 'nachalny': 1, 'produkt': 1, 'placement': 1, 'naturalność': 1, 'sytuacji\\n': 1, 'trzymają': 1, 'poziomu': 1, 'czasem': 1, 'duże': 1, 'oczekiwania': 1, 'teaserze': 1, 'obietnic\\n': 1, 'stylu': 1, 'reżyserii': 1, 'szary': 1, 'nijaki\\n': 1, 'dobrana': 1, 'pasuje': 1, 'atmosfery': 1, 'nieprzekonujące': 1, 'satysfakcji': 1, 'seansie\\n': 1, 'która': 1, 'gubi': 1, 'własnych': 1, 'zakamarkach\\n': 1, 'chaotyczny': 1, 'chronologię': 1, 'wydarzeń\\n': 1, 'aktorstwo': 1, 'niskim': 1, 'poziomie': 1, 'nierealistyczne\\n': 1, 'wielokrotnie': 1, 'widziane': 1, 'motywy': 1, 'wnosi': 1, 'nowego': 1, 'kinematografii\\n': 1, 'tonacji': 1, 'filmu': 1, 'zmienia': 1, 'dramatu': 1, 'komedię': 1, 'powodu\\n': 1, 'zapamiętać': 1, 'wniosły': 1, 'długie': 1, 'zbliżenia': 1, 'twarze': 1, 'przytłaczają': 1, 'widza\\n': 1, 'użycie': 1, 'wydaje': 1, 'sztuczny\\n': 1, 'casting': 1, 'kompletnie': 1, 'roli\\n': 1, 'zawiedziony': 1, 'brakiem': 1, 'zaskoczenia': 1, 'przewidywalna\\n': 1, 'przypadkowych': 1, 'nich': 1, 'mają': 1, 'tempa': 1, 'pewnym': 1, 'momencie': 1, 'nudny\\n': 1, 'motywu': 1, 'przewodniego': 1, 'wpada': 1, 'ucho\\n': 1, 'wstrząsające': 1, 'przemocy': 1, 'każdy': 1, 'gotów': 1, 'taki': 1, 'poziom': 1, 'brutalności\\n': 1, 'wątpliwy': 1, 'kostiumów': 1, 'wyglądają': 1, 'innej': 1, 'epoki\\n': 1, 'wykorzystanie': 1, 'potencjału': 1, 'aktorskiego': 1, 'niektórzy': 1, 'zmarnowani\\n': 1, 'brzmią': 1, 'kalka': 1, 'innych': 1, 'filmów': 1, 'autentyczności\\n': 1, 'naciąganie': 1, 'fabuły': 1, 'wydarzenia': 1, 'trudne': 1, 'uwierzenia\\n': 1, 'wyważenia': 1, 'tonalnego': 1, 'określa': 1, 'dramatem': 1, 'komedią\\n': 1, 'długi': 1, 'epilog': 1, 'trwa': 1, 'zdecydowanie': 1, 'długo\\n': 1, 'przezroczysta': 1, 'schematyczna': 1, 'przewidywalne\\n': 1, 'jasnego': 1, 'celu': 1, 'nierealistyczne': 1, 'działania': 1, 'pozbawione': 1, 'logiki\\n': 1, 'głośna': 1, 'akcję\\n': 1, 'zrównoważenia': 1, 'wątkami': 1, 'rozwlekłe': 1, 'inne': 1, 'krótkie\\n': 1, 'słaby': 1, 'kolorów': 1, 'wygląda': 1, 'paleta': 1, 'barw': 1, 'służą': 1, 'czysty': 1, 'popis': 1, 'reżysera\\n': 1, 'klimat': 1, 'początkowe': 1, 'wrażenia': 1, 'były': 1, 'lepsze\\n': 1, 'zaskoczenia\\n': 1, 'akcji': 1, 'wydają': 1, 'nieprzygotowani': 1}\n"
     ]
    }
   ],
   "source": [
    "#Najczęściej występujące słowa dla zbioru negative\n",
    "\n",
    "word_counts_negative = {}\n",
    "for row in dataFrame_2['text']:\n",
    "    tokens = preprocess_text(row)\n",
    "    for token in tokens:\n",
    "        if token in word_counts_negative:\n",
    "            word_counts_negative[token] += 1\n",
    "        else:\n",
    "            word_counts_negative[token] = 1\n",
    "\n",
    "print(dict(sorted(word_counts_negative.items(), key=lambda x:x[1], reverse=True)))"
   ],
   "metadata": {
    "collapsed": false,
    "ExecuteTime": {
     "end_time": "2023-11-24T09:59:06.622896300Z",
     "start_time": "2023-11-24T09:59:06.609558800Z"
    }
   },
   "id": "779960ef954911c2"
  },
  {
   "cell_type": "code",
   "execution_count": 10,
   "outputs": [],
   "source": [],
   "metadata": {
    "collapsed": false,
    "ExecuteTime": {
     "end_time": "2023-11-24T09:59:06.682505300Z",
     "start_time": "2023-11-24T09:59:06.623965Z"
    }
   },
   "id": "dfbffcce1b2cabe3"
  }
 ],
 "metadata": {
  "kernelspec": {
   "display_name": "Python 3",
   "language": "python",
   "name": "python3"
  },
  "language_info": {
   "codemirror_mode": {
    "name": "ipython",
    "version": 2
   },
   "file_extension": ".py",
   "mimetype": "text/x-python",
   "name": "python",
   "nbconvert_exporter": "python",
   "pygments_lexer": "ipython2",
   "version": "2.7.6"
  }
 },
 "nbformat": 4,
 "nbformat_minor": 5
}
