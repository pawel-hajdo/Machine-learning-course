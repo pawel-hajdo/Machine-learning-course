{
 "cells": [
  {
   "cell_type": "markdown",
   "source": [
    "#Model predykcyjny ceny nieruchomości - lab6"
   ],
   "metadata": {
    "collapsed": false
   },
   "id": "65002c8f494464a"
  },
  {
   "cell_type": "code",
   "execution_count": 84,
   "outputs": [
    {
     "name": "stdout",
     "output_type": "stream",
     "text": [
      "Index(['Id', 'MSSubClass', 'MSZoning', 'LotFrontage', 'LotArea', 'Street',\n",
      "       'Alley', 'LotShape', 'LandContour', 'Utilities', 'LotConfig',\n",
      "       'LandSlope', 'Neighborhood', 'Condition1', 'Condition2', 'BldgType',\n",
      "       'HouseStyle', 'OverallQual', 'OverallCond', 'YearBuilt', 'YearRemodAdd',\n",
      "       'RoofStyle', 'RoofMatl', 'Exterior1st', 'Exterior2nd', 'MasVnrType',\n",
      "       'MasVnrArea', 'ExterQual', 'ExterCond', 'Foundation', 'BsmtQual',\n",
      "       'BsmtCond', 'BsmtExposure', 'BsmtFinType1', 'BsmtFinSF1',\n",
      "       'BsmtFinType2', 'BsmtFinSF2', 'BsmtUnfSF', 'TotalBsmtSF', 'Heating',\n",
      "       'HeatingQC', 'CentralAir', 'Electrical', '1stFlrSF', '2ndFlrSF',\n",
      "       'LowQualFinSF', 'GrLivArea', 'BsmtFullBath', 'BsmtHalfBath', 'FullBath',\n",
      "       'HalfBath', 'BedroomAbvGr', 'KitchenAbvGr', 'KitchenQual',\n",
      "       'TotRmsAbvGrd', 'Functional', 'Fireplaces', 'FireplaceQu', 'GarageType',\n",
      "       'GarageYrBlt', 'GarageFinish', 'GarageCars', 'GarageArea', 'GarageQual',\n",
      "       'GarageCond', 'PavedDrive', 'WoodDeckSF', 'OpenPorchSF',\n",
      "       'EnclosedPorch', '3SsnPorch', 'ScreenPorch', 'PoolArea', 'PoolQC',\n",
      "       'Fence', 'MiscFeature', 'MiscVal', 'MoSold', 'YrSold', 'SaleType',\n",
      "       'SaleCondition', 'SalePrice'],\n",
      "      dtype='object')\n"
     ]
    }
   ],
   "source": [
    "import pandas as pd\n",
    "import csv\n",
    "\n",
    "#1. Wczytaj dane home_prices.csv\n",
    "data = pd.read_csv('Home_prices.csv')\n",
    "    \n",
    "df = pd.DataFrame(data)\n",
    "\n",
    "#2. Pokaż wszystkie kolumny pliku (data_frame.columns)\n",
    "print(df.columns)"
   ],
   "metadata": {
    "collapsed": false,
    "ExecuteTime": {
     "end_time": "2023-12-15T08:20:47.464738800Z",
     "start_time": "2023-12-15T08:20:47.365479100Z"
    }
   },
   "id": "99eae82260b3e6e7"
  },
  {
   "cell_type": "code",
   "execution_count": 85,
   "outputs": [
    {
     "name": "stdout",
     "output_type": "stream",
     "text": [
      "        Id  MSSubClass MSZoning  LotFrontage  LotArea Street Alley LotShape  \\\n",
      "0        1          60       RL         65.0     8450   Pave   NaN      Reg   \n",
      "1        2          20       RL         80.0     9600   Pave   NaN      Reg   \n",
      "2        3          60       RL         68.0    11250   Pave   NaN      IR1   \n",
      "3        4          70       RL         60.0     9550   Pave   NaN      IR1   \n",
      "4        5          60       RL         84.0    14260   Pave   NaN      IR1   \n",
      "...    ...         ...      ...          ...      ...    ...   ...      ...   \n",
      "1455  1456          60       RL         62.0     7917   Pave   NaN      Reg   \n",
      "1456  1457          20       RL         85.0    13175   Pave   NaN      Reg   \n",
      "1457  1458          70       RL         66.0     9042   Pave   NaN      Reg   \n",
      "1458  1459          20       RL         68.0     9717   Pave   NaN      Reg   \n",
      "1459  1460          20       RL         75.0     9937   Pave   NaN      Reg   \n",
      "\n",
      "     LandContour Utilities  ... PoolArea PoolQC  Fence MiscFeature MiscVal  \\\n",
      "0            Lvl    AllPub  ...        0    NaN    NaN         NaN       0   \n",
      "1            Lvl    AllPub  ...        0    NaN    NaN         NaN       0   \n",
      "2            Lvl    AllPub  ...        0    NaN    NaN         NaN       0   \n",
      "3            Lvl    AllPub  ...        0    NaN    NaN         NaN       0   \n",
      "4            Lvl    AllPub  ...        0    NaN    NaN         NaN       0   \n",
      "...          ...       ...  ...      ...    ...    ...         ...     ...   \n",
      "1455         Lvl    AllPub  ...        0    NaN    NaN         NaN       0   \n",
      "1456         Lvl    AllPub  ...        0    NaN  MnPrv         NaN       0   \n",
      "1457         Lvl    AllPub  ...        0    NaN  GdPrv        Shed    2500   \n",
      "1458         Lvl    AllPub  ...        0    NaN    NaN         NaN       0   \n",
      "1459         Lvl    AllPub  ...        0    NaN    NaN         NaN       0   \n",
      "\n",
      "     MoSold YrSold  SaleType  SaleCondition  SalePrice  \n",
      "0         2   2008        WD         Normal     208500  \n",
      "1         5   2007        WD         Normal     181500  \n",
      "2         9   2008        WD         Normal     223500  \n",
      "3         2   2006        WD        Abnorml     140000  \n",
      "4        12   2008        WD         Normal     250000  \n",
      "...     ...    ...       ...            ...        ...  \n",
      "1455      8   2007        WD         Normal     175000  \n",
      "1456      2   2010        WD         Normal     210000  \n",
      "1457      5   2010        WD         Normal     266500  \n",
      "1458      4   2010        WD         Normal     142125  \n",
      "1459      6   2008        WD         Normal     147500  \n",
      "\n",
      "[1460 rows x 81 columns]\n"
     ]
    }
   ],
   "source": [
    "#3. Usuń brakujące wartości (data_frame.dropna(…))\n",
    "\n",
    "df.dropna(how='all')\n",
    "\n",
    "print(df)"
   ],
   "metadata": {
    "collapsed": false,
    "ExecuteTime": {
     "end_time": "2023-12-15T08:20:47.468740200Z",
     "start_time": "2023-12-15T08:20:47.420742800Z"
    }
   },
   "id": "a3a7dea9b620e820"
  },
  {
   "cell_type": "code",
   "execution_count": 86,
   "outputs": [
    {
     "name": "stdout",
     "output_type": "stream",
     "text": [
      "0       208500\n",
      "1       181500\n",
      "2       223500\n",
      "3       140000\n",
      "4       250000\n",
      "         ...  \n",
      "1455    175000\n",
      "1456    210000\n",
      "1457    266500\n",
      "1458    142125\n",
      "1459    147500\n",
      "Name: SalePrice, Length: 1460, dtype: int64\n"
     ]
    }
   ],
   "source": [
    "#4. Wybierz odpowiednią kolumnę, która posłuży jako „target” (macierz Y) do predykcji\n",
    "\n",
    "target = df['SalePrice']\n",
    "\n",
    "print(target)"
   ],
   "metadata": {
    "collapsed": false,
    "ExecuteTime": {
     "end_time": "2023-12-15T08:20:47.468740200Z",
     "start_time": "2023-12-15T08:20:47.448738100Z"
    }
   },
   "id": "91fd1a87affff78"
  },
  {
   "cell_type": "code",
   "execution_count": 87,
   "outputs": [
    {
     "data": {
      "text/plain": "        MSSubClass        LotArea   GarageArea  OverallCond    YearBuilt  \\\ncount  1460.000000    1460.000000  1460.000000  1460.000000  1460.000000   \nmean     56.897260   10516.828082   472.980137     5.575342  1971.267808   \nstd      42.300571    9981.264932   213.804841     1.112799    30.202904   \nmin      20.000000    1300.000000     0.000000     1.000000  1872.000000   \n25%      20.000000    7553.500000   334.500000     5.000000  1954.000000   \n50%      50.000000    9478.500000   480.000000     5.000000  1973.000000   \n75%      70.000000   11601.500000   576.000000     6.000000  2000.000000   \nmax     190.000000  215245.000000  1418.000000     9.000000  2010.000000   \n\n       OverallQual     1stFlrSF     2ndFlrSF       MoSold       YrSold  \\\ncount  1460.000000  1460.000000  1460.000000  1460.000000  1460.000000   \nmean      6.099315  1162.626712   346.992466     6.321918  2007.815753   \nstd       1.382997   386.587738   436.528436     2.703626     1.328095   \nmin       1.000000   334.000000     0.000000     1.000000  2006.000000   \n25%       5.000000   882.000000     0.000000     5.000000  2007.000000   \n50%       6.000000  1087.000000     0.000000     6.000000  2008.000000   \n75%       7.000000  1391.250000   728.000000     8.000000  2009.000000   \nmax      10.000000  4692.000000  2065.000000    12.000000  2010.000000   \n\n          PoolArea  \ncount  1460.000000  \nmean      2.758904  \nstd      40.177307  \nmin       0.000000  \n25%       0.000000  \n50%       0.000000  \n75%       0.000000  \nmax     738.000000  ",
      "text/html": "<div>\n<style scoped>\n    .dataframe tbody tr th:only-of-type {\n        vertical-align: middle;\n    }\n\n    .dataframe tbody tr th {\n        vertical-align: top;\n    }\n\n    .dataframe thead th {\n        text-align: right;\n    }\n</style>\n<table border=\"1\" class=\"dataframe\">\n  <thead>\n    <tr style=\"text-align: right;\">\n      <th></th>\n      <th>MSSubClass</th>\n      <th>LotArea</th>\n      <th>GarageArea</th>\n      <th>OverallCond</th>\n      <th>YearBuilt</th>\n      <th>OverallQual</th>\n      <th>1stFlrSF</th>\n      <th>2ndFlrSF</th>\n      <th>MoSold</th>\n      <th>YrSold</th>\n      <th>PoolArea</th>\n    </tr>\n  </thead>\n  <tbody>\n    <tr>\n      <th>count</th>\n      <td>1460.000000</td>\n      <td>1460.000000</td>\n      <td>1460.000000</td>\n      <td>1460.000000</td>\n      <td>1460.000000</td>\n      <td>1460.000000</td>\n      <td>1460.000000</td>\n      <td>1460.000000</td>\n      <td>1460.000000</td>\n      <td>1460.000000</td>\n      <td>1460.000000</td>\n    </tr>\n    <tr>\n      <th>mean</th>\n      <td>56.897260</td>\n      <td>10516.828082</td>\n      <td>472.980137</td>\n      <td>5.575342</td>\n      <td>1971.267808</td>\n      <td>6.099315</td>\n      <td>1162.626712</td>\n      <td>346.992466</td>\n      <td>6.321918</td>\n      <td>2007.815753</td>\n      <td>2.758904</td>\n    </tr>\n    <tr>\n      <th>std</th>\n      <td>42.300571</td>\n      <td>9981.264932</td>\n      <td>213.804841</td>\n      <td>1.112799</td>\n      <td>30.202904</td>\n      <td>1.382997</td>\n      <td>386.587738</td>\n      <td>436.528436</td>\n      <td>2.703626</td>\n      <td>1.328095</td>\n      <td>40.177307</td>\n    </tr>\n    <tr>\n      <th>min</th>\n      <td>20.000000</td>\n      <td>1300.000000</td>\n      <td>0.000000</td>\n      <td>1.000000</td>\n      <td>1872.000000</td>\n      <td>1.000000</td>\n      <td>334.000000</td>\n      <td>0.000000</td>\n      <td>1.000000</td>\n      <td>2006.000000</td>\n      <td>0.000000</td>\n    </tr>\n    <tr>\n      <th>25%</th>\n      <td>20.000000</td>\n      <td>7553.500000</td>\n      <td>334.500000</td>\n      <td>5.000000</td>\n      <td>1954.000000</td>\n      <td>5.000000</td>\n      <td>882.000000</td>\n      <td>0.000000</td>\n      <td>5.000000</td>\n      <td>2007.000000</td>\n      <td>0.000000</td>\n    </tr>\n    <tr>\n      <th>50%</th>\n      <td>50.000000</td>\n      <td>9478.500000</td>\n      <td>480.000000</td>\n      <td>5.000000</td>\n      <td>1973.000000</td>\n      <td>6.000000</td>\n      <td>1087.000000</td>\n      <td>0.000000</td>\n      <td>6.000000</td>\n      <td>2008.000000</td>\n      <td>0.000000</td>\n    </tr>\n    <tr>\n      <th>75%</th>\n      <td>70.000000</td>\n      <td>11601.500000</td>\n      <td>576.000000</td>\n      <td>6.000000</td>\n      <td>2000.000000</td>\n      <td>7.000000</td>\n      <td>1391.250000</td>\n      <td>728.000000</td>\n      <td>8.000000</td>\n      <td>2009.000000</td>\n      <td>0.000000</td>\n    </tr>\n    <tr>\n      <th>max</th>\n      <td>190.000000</td>\n      <td>215245.000000</td>\n      <td>1418.000000</td>\n      <td>9.000000</td>\n      <td>2010.000000</td>\n      <td>10.000000</td>\n      <td>4692.000000</td>\n      <td>2065.000000</td>\n      <td>12.000000</td>\n      <td>2010.000000</td>\n      <td>738.000000</td>\n    </tr>\n  </tbody>\n</table>\n</div>"
     },
     "execution_count": 87,
     "metadata": {},
     "output_type": "execute_result"
    }
   ],
   "source": [
    "#5. Zastanów się które cechy weźmiesz do jako macierz cech (macierz X) (zwróć uwagę, na typy cech)\n",
    "#6. Wybierz te cechy do zbioru X\n",
    "\n",
    "X = df[[\n",
    "    'MSSubClass',\n",
    "    'LotArea',\n",
    "    'GarageArea',\n",
    "    'OverallCond',\n",
    "    'YearBuilt',\n",
    "    'OverallQual',\n",
    "    '1stFlrSF',\n",
    "    '2ndFlrSF',\n",
    "    'MoSold',\n",
    "    'YrSold',\n",
    "    'PoolArea'\n",
    "]]\n",
    "\n",
    "#7. Zobacz statystyki macierzy cech (X) (data_rame.describe())\n",
    "X.describe()"
   ],
   "metadata": {
    "collapsed": false,
    "ExecuteTime": {
     "end_time": "2023-12-15T08:20:47.548737800Z",
     "start_time": "2023-12-15T08:20:47.464738800Z"
    }
   },
   "id": "baaa27a7e06030c0"
  },
  {
   "cell_type": "code",
   "execution_count": 88,
   "outputs": [],
   "source": [
    "from sklearn.model_selection import train_test_split\n",
    "\n",
    "#8. Utwórz zbiór treningowy i testowy\n",
    "X_train, X_test, y_train, y_test = train_test_split(X,target, test_size=0.2, random_state=42)"
   ],
   "metadata": {
    "collapsed": false,
    "ExecuteTime": {
     "end_time": "2023-12-15T08:20:47.552737700Z",
     "start_time": "2023-12-15T08:20:47.496738200Z"
    }
   },
   "id": "328d84fb038bab4c"
  },
  {
   "cell_type": "code",
   "execution_count": 89,
   "outputs": [
    {
     "name": "stdout",
     "output_type": "stream",
     "text": [
      "Regression: Linear\n",
      "Accuracy: 0.8012013742778293\n",
      "Mean squared error: 1524850308.82955\n",
      "Mean absolute error: 23872.900208374514\n",
      "==================================================\n",
      "Regression: Decision Tree\n",
      "Accuracy: 0.750600470297621\n",
      "Mean squared error: 1912975748.7363014\n",
      "Mean absolute error: 29556.74315068493\n",
      "==================================================\n",
      "Regression: Random Forest\n",
      "Accuracy: 0.8739392366169277\n",
      "Mean squared error: 966927177.0751945\n",
      "Mean absolute error: 20068.133207762556\n",
      "==================================================\n"
     ]
    }
   ],
   "source": [
    "#9. Przetestuj kilka algorytmów (LinearRegression(), DecisionTreeRegressor(),RandomForestRegressor() )\n",
    "from sklearn.linear_model import LinearRegression\n",
    "from sklearn.tree import DecisionTreeRegressor\n",
    "from sklearn.ensemble import RandomForestRegressor\n",
    "from sklearn.model_selection import cross_val_score\n",
    "from sklearn.metrics import mean_squared_error, mean_absolute_error, accuracy_score\n",
    "\n",
    "regressions = [\n",
    "    ('Linear', LinearRegression()),\n",
    "    ('Decision Tree', DecisionTreeRegressor()),\n",
    "    ('Random Forest', RandomForestRegressor())\n",
    "]\n",
    "\n",
    "results = []\n",
    "\n",
    "for regression_name, regression in regressions:\n",
    "   # cv_scores = cross_val_score(regression, X_train, y_train, cv=5, scoring='accuracy')\n",
    "    \n",
    "    #Trenowanie modelu\n",
    "    regression.fit(X_train, y_train)\n",
    "    \n",
    "    #Przewidywanie na danych testowych\n",
    "    y_pred = regression.predict(X_test)\n",
    "    \n",
    "    #Ocena wyników\n",
    "    score = regression.score(X_test, y_test)\n",
    "    \n",
    "    #Metryki predykcji\n",
    "    mse = mean_squared_error(y_test, y_pred)\n",
    "    mae = mean_absolute_error(y_test, y_pred)\n",
    "    \n",
    "    #Dodawanie wyników do listy\n",
    "    results.append({\n",
    "        'Regression': regression_name,\n",
    "        'Score': score,\n",
    "        'Mean Squared Error': mse,\n",
    "        'Mean Absolute Error': mae\n",
    "    })\n",
    "\n",
    "\n",
    "\n",
    "\n",
    "for result in results:\n",
    "     print(f\"Regression: {result['Regression']}\")\n",
    "     print(f\"Accuracy: {result['Score']}\")\n",
    "     print(f\"Mean squared error: {result['Mean Squared Error']}\")\n",
    "     print(f\"Mean absolute error: {result['Mean Absolute Error']}\")\n",
    "     print(\"=\" * 50)"
   ],
   "metadata": {
    "collapsed": false,
    "ExecuteTime": {
     "end_time": "2023-12-15T08:20:49.350516900Z",
     "start_time": "2023-12-15T08:20:47.512738600Z"
    }
   },
   "id": "178421843bd33abf"
  },
  {
   "cell_type": "code",
   "execution_count": 89,
   "outputs": [],
   "source": [],
   "metadata": {
    "collapsed": false,
    "ExecuteTime": {
     "end_time": "2023-12-15T08:20:49.386511700Z",
     "start_time": "2023-12-15T08:20:49.346463100Z"
    }
   },
   "id": "8a69a32bf0565309"
  }
 ],
 "metadata": {
  "kernelspec": {
   "display_name": "Python 3",
   "language": "python",
   "name": "python3"
  },
  "language_info": {
   "codemirror_mode": {
    "name": "ipython",
    "version": 2
   },
   "file_extension": ".py",
   "mimetype": "text/x-python",
   "name": "python",
   "nbconvert_exporter": "python",
   "pygments_lexer": "ipython2",
   "version": "2.7.6"
  }
 },
 "nbformat": 4,
 "nbformat_minor": 5
}
